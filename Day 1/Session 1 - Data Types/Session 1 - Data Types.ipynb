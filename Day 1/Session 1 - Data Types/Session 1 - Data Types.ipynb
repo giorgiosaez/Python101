{
  "cells": [
    {
      "cell_type": "markdown",
      "source": [
        "# 1. Data Types\n",
        "\n",
        "Use a locally installed editor like Spyder or Visual Studio Code. If you want to try out coding without installing anything, try this online editor: https://www.pythonanywhere.com/try-ipython/\n",
        "\n",
        "## Code comments\n",
        "In order to explain the code, comments in Python can be made by preceding a line with a hashtag `#`. Everything on that particular line will then not be interpreted as part of the code:\n",
        "\n",
        "```python\n",
        "# This is a comment and will not be interpreted as code\n",
        "```\n",
        "\n",
        "## Data Types\n",
        "The basic data types in Python are illustrated below."
      ],
      "metadata": {}
    },
    {
      "cell_type": "code",
      "source": [
        "# This is a comment and will not be interpreted as code\n",
        "# This is a comment and will not be interpreted as code\n",
        "# This is a comment and will not be interpreted as code\n",
        "# This is a comment and will not be interpreted as code\n"
      ],
      "outputs": [],
      "execution_count": 1,
      "metadata": {
        "gather": {
          "logged": 1757096397872
        }
      }
    },
    {
      "cell_type": "markdown",
      "source": [
        "### Integers (`int`)"
      ],
      "metadata": {}
    },
    {
      "cell_type": "code",
      "source": [
        "# Integers\n",
        "a = 2\n",
        "b = 239"
      ],
      "outputs": [],
      "execution_count": 2,
      "metadata": {
        "gather": {
          "logged": 1757096398163
        }
      }
    },
    {
      "cell_type": "markdown",
      "source": [
        "### Floating point numbers (`float`)"
      ],
      "metadata": {}
    },
    {
      "cell_type": "code",
      "source": [
        "# Floats\n",
        "c = 2.1\n",
        "d = 239.0"
      ],
      "outputs": [],
      "execution_count": 3,
      "metadata": {
        "gather": {
          "logged": 1757096398523
        }
      }
    },
    {
      "cell_type": "markdown",
      "source": [
        "### Strings (`str`)"
      ],
      "metadata": {}
    },
    {
      "cell_type": "code",
      "source": [
        "e = 'Hello world!'\n",
        "my_text = 'This is my text'"
      ],
      "outputs": [],
      "execution_count": 4,
      "metadata": {
        "gather": {
          "logged": 1757096398898
        }
      }
    },
    {
      "cell_type": "markdown",
      "source": [
        "Both `\"` and `'` can be used to denote strings. If the apostrophe character should be part of the string, use `\"` as outer boundaries:\n",
        "~~~~python\n",
        "\"Satya's last name is Nadella\"\n",
        "~~~~\n",
        "Alternatively, `\\` can be used as an *escape* character:"
      ],
      "metadata": {}
    },
    {
      "cell_type": "code",
      "source": [
        "'Satya\\'s last name is Nadella'"
      ],
      "outputs": [
        {
          "output_type": "execute_result",
          "execution_count": 5,
          "data": {
            "text/plain": "\"Satya's last name is Nadella\""
          },
          "metadata": {}
        }
      ],
      "execution_count": 5,
      "metadata": {
        "gather": {
          "logged": 1757096399336
        }
      }
    },
    {
      "cell_type": "markdown",
      "source": [
        "Note that strings are ***immutable***, which means that they can't be changed after creation. They can be copied, then manipulated and thereafter saved into a new variable though."
      ],
      "metadata": {}
    },
    {
      "cell_type": "markdown",
      "source": [
        "### Boolean (`bool`)"
      ],
      "metadata": {}
    },
    {
      "cell_type": "code",
      "source": [
        "x = True\n",
        "y = False"
      ],
      "outputs": [],
      "execution_count": 6,
      "metadata": {
        "gather": {
          "logged": 1757096399893
        }
      }
    },
    {
      "cell_type": "markdown",
      "source": [
        "### Python is dynamically typed language\n",
        "As you might have noticed, Python does not require you to declare the type of a variable before creating it. This is because Python is a *dynamically typed language*. \n",
        "\n",
        "To create a variable `a` in a *statically typed language*, it would go something like (C++):\n",
        "> ~~~c++\n",
        "> int a\n",
        "> a = 5\n",
        "> ~~~\n",
        "\n",
        "You might also have seen this when using VBA with *Option Explicit* enabled, where it would be `Dim a As Integer` and then `a = 5`. If the variable type is not declared beforehand in such languages, an error will be thrown.\n",
        "This is not the case in Python. It automatically figures out which type to assign to each variable in the background.\n",
        "\n",
        "This does not mean that Python is 'smarter' than other languages, it's purely an implementation choice from the author of the language to make it behave this way. And it has both advantages and drawbacks.\n",
        "\n",
        "Dynamic typing also means that variables can change types throughout the program, so somthing like this is valid:\n",
        "> ~~~python\n",
        "a = 5\n",
        "a = 'Hi'\n",
        "> ~~~\n",
        "\n",
        "Which can be both a blessing and a curse. The flexibility is nice, but it can lead to unexpected code behavior if variables are not tracked.  \n"
      ],
      "metadata": {}
    },
    {
      "cell_type": "markdown",
      "source": [
        "## Calculations with data types"
      ],
      "metadata": {}
    },
    {
      "cell_type": "markdown",
      "source": [
        "### Standard calculator-like operations\n",
        "Most basic operations on integers and floats such as addition, subtraction, multiplication work as one would expect:"
      ],
      "metadata": {}
    },
    {
      "cell_type": "code",
      "source": [
        "2 * 4"
      ],
      "outputs": [
        {
          "output_type": "execute_result",
          "execution_count": 7,
          "data": {
            "text/plain": "8"
          },
          "metadata": {}
        }
      ],
      "execution_count": 7,
      "metadata": {
        "gather": {
          "logged": 1757096400459
        }
      }
    },
    {
      "cell_type": "code",
      "source": [
        "2 / 5"
      ],
      "outputs": [
        {
          "output_type": "execute_result",
          "execution_count": 8,
          "data": {
            "text/plain": "0.4"
          },
          "metadata": {}
        }
      ],
      "execution_count": 8,
      "metadata": {
        "gather": {
          "logged": 1757096401077
        }
      }
    },
    {
      "cell_type": "code",
      "source": [
        "3.1 + 7.4"
      ],
      "outputs": [
        {
          "output_type": "execute_result",
          "execution_count": 9,
          "data": {
            "text/plain": "10.5"
          },
          "metadata": {}
        }
      ],
      "execution_count": 9,
      "metadata": {
        "gather": {
          "logged": 1757096401738
        }
      }
    },
    {
      "cell_type": "markdown",
      "source": [
        "### Exponents \n",
        "Exponents are denoted by `**`:"
      ],
      "metadata": {}
    },
    {
      "cell_type": "code",
      "source": [
        "2**3"
      ],
      "outputs": [
        {
          "output_type": "execute_result",
          "execution_count": 10,
          "data": {
            "text/plain": "8"
          },
          "metadata": {}
        }
      ],
      "execution_count": 10,
      "metadata": {
        "gather": {
          "logged": 1757096402588
        }
      }
    },
    {
      "cell_type": "markdown",
      "source": [
        "> **Watch Out**: The `^` operator is **not** used for exponentiation. Instead, it's a `Binary XOR operator` (whatever that is)."
      ],
      "metadata": {}
    },
    {
      "cell_type": "markdown",
      "source": [
        "### Floor division\n",
        "Floor division is denoted by `//`. It returns the integer part of a division result (removes decimals after division):"
      ],
      "metadata": {}
    },
    {
      "cell_type": "code",
      "source": [
        "10 // 3"
      ],
      "outputs": [
        {
          "output_type": "execute_result",
          "execution_count": 11,
          "data": {
            "text/plain": "3"
          },
          "metadata": {}
        }
      ],
      "execution_count": 11,
      "metadata": {
        "gather": {
          "logged": 1757096403344
        }
      }
    },
    {
      "cell_type": "markdown",
      "source": [
        "### Modulo\n",
        "Modulo is denoted by `%`. It returns the remainder after a division:"
      ],
      "metadata": {}
    },
    {
      "cell_type": "code",
      "source": [
        "10 % 3"
      ],
      "outputs": [
        {
          "output_type": "execute_result",
          "execution_count": 12,
          "data": {
            "text/plain": "1"
          },
          "metadata": {}
        }
      ],
      "execution_count": 12,
      "metadata": {
        "gather": {
          "logged": 1757096404150
        }
      }
    },
    {
      "cell_type": "markdown",
      "source": [
        "### Operations on strings\n",
        "Strings can be **added** (concatenated) by use of the addition operator `+`:"
      ],
      "metadata": {}
    },
    {
      "cell_type": "code",
      "source": [
        "'Bruce' + ' ' + 'Wayne'"
      ],
      "outputs": [
        {
          "output_type": "execute_result",
          "execution_count": 13,
          "data": {
            "text/plain": "'Bruce Wayne'"
          },
          "metadata": {}
        }
      ],
      "execution_count": 13,
      "metadata": {
        "gather": {
          "logged": 1757096404841
        }
      }
    },
    {
      "cell_type": "markdown",
      "source": [
        "**Multiplication** is also allowed:"
      ],
      "metadata": {}
    },
    {
      "cell_type": "code",
      "source": [
        "'a' * 3"
      ],
      "outputs": [
        {
          "output_type": "execute_result",
          "execution_count": 14,
          "data": {
            "text/plain": "'aaa'"
          },
          "metadata": {}
        }
      ],
      "execution_count": 14,
      "metadata": {
        "gather": {
          "logged": 1757096405727
        }
      }
    },
    {
      "cell_type": "markdown",
      "source": [
        "**Subtraction** and **division** are not allowed: "
      ],
      "metadata": {}
    },
    {
      "cell_type": "code",
      "source": [
        "'a' / 3    # Division results in error"
      ],
      "outputs": [
        {
          "output_type": "error",
          "ename": "TypeError",
          "evalue": "unsupported operand type(s) for /: 'str' and 'int'",
          "traceback": [
            "\u001b[0;31m---------------------------------------------------------------------------\u001b[0m",
            "\u001b[0;31mTypeError\u001b[0m                                 Traceback (most recent call last)",
            "Cell \u001b[0;32mIn[15], line 1\u001b[0m\n\u001b[0;32m----> 1\u001b[0m \u001b[38;5;124;43m'\u001b[39;49m\u001b[38;5;124;43ma\u001b[39;49m\u001b[38;5;124;43m'\u001b[39;49m\u001b[43m \u001b[49m\u001b[38;5;241;43m/\u001b[39;49m\u001b[43m \u001b[49m\u001b[38;5;241;43m3\u001b[39;49m    \u001b[38;5;66;03m# Division results in error\u001b[39;00m\n",
            "\u001b[0;31mTypeError\u001b[0m: unsupported operand type(s) for /: 'str' and 'int'"
          ]
        }
      ],
      "execution_count": 15,
      "metadata": {
        "gather": {
          "logged": 1757096406450
        }
      }
    },
    {
      "cell_type": "code",
      "source": [
        "'a' - 'b'    # Subtraction results in error"
      ],
      "outputs": [],
      "execution_count": null,
      "metadata": {
        "gather": {
          "logged": 1757096406554
        }
      }
    },
    {
      "cell_type": "markdown",
      "source": [
        "## Printing strings with variables"
      ],
      "metadata": {}
    },
    {
      "cell_type": "markdown",
      "source": [
        "There is quite often a need for printing a combination of static text and variables. This could e.g. be to output the result of a computation. Often the best way is to use the so-called **f-strings**. See examples below."
      ],
      "metadata": {}
    },
    {
      "cell_type": "code",
      "source": [
        "# Basic usage of f-strings\n",
        "a = 2\n",
        "b = 27\n",
        "print('Multiplication: a * b = {a} * {b} = {a*b}')\n",
        "\n",
        "print(f'Multiplication: a * b = {a} * {b} = {a*b}')\n",
        "print(f'Division: a / b = {a} / {b} = {a/b}')"
      ],
      "outputs": [
        {
          "output_type": "stream",
          "name": "stdout",
          "text": "Multiplication: a * b = {a} * {b} = {a*b}\nMultiplication: a * b = 2 * 27 = 54\nDivision: a / b = 2 / 27 = 0.07407407407407407\n"
        }
      ],
      "execution_count": 17,
      "metadata": {
        "gather": {
          "logged": 1757095917105
        }
      }
    },
    {
      "cell_type": "code",
      "source": [
        "# f-strings with formatting for number of decimal places\n",
        "print(f'Division: a / b = {a} / {b} = {a/b:.3f}')   # The part ':.xf' specfifies 'x' decimals to be printed "
      ],
      "outputs": [
        {
          "output_type": "stream",
          "name": "stdout",
          "text": "Division: a / b = 2 / 27 = 0.074\n"
        }
      ],
      "execution_count": 18,
      "metadata": {
        "gather": {
          "logged": 1757095917302
        }
      }
    },
    {
      "cell_type": "markdown",
      "source": [
        "Both variables and complex computations can be inserted inside the curly brackets to be printed."
      ],
      "metadata": {}
    },
    {
      "cell_type": "code",
      "source": [
        "print(f'Computation insde curly bracket: {122**2 / 47}')"
      ],
      "outputs": [
        {
          "output_type": "stream",
          "name": "stdout",
          "text": "Computation insde curly bracket: 316.6808510638298\n"
        }
      ],
      "execution_count": 19,
      "metadata": {
        "gather": {
          "logged": 1757095917596
        }
      }
    },
    {
      "cell_type": "markdown",
      "source": [
        "## Function: `len()`\n",
        "The `len()` function returns the length of a sequence, e.g. a string:"
      ],
      "metadata": {}
    },
    {
      "cell_type": "code",
      "source": [
        "len('aaa')"
      ],
      "outputs": [
        {
          "output_type": "execute_result",
          "execution_count": 20,
          "data": {
            "text/plain": "3"
          },
          "metadata": {}
        }
      ],
      "execution_count": 20,
      "metadata": {
        "gather": {
          "logged": 1757095917950
        }
      }
    },
    {
      "cell_type": "code",
      "source": [
        "len('a and b')   # Spaces are also counted"
      ],
      "outputs": [
        {
          "output_type": "execute_result",
          "execution_count": 38,
          "data": {
            "text/plain": "7"
          },
          "metadata": {}
        }
      ],
      "execution_count": 38,
      "metadata": {
        "gather": {
          "logged": 1757095984815
        }
      }
    },
    {
      "cell_type": "markdown",
      "source": [
        "## Some string methods\n",
        "A string object can be interacted with in many ways by so-called ***methods***. Some useful methods are shown below:\n"
      ],
      "metadata": {}
    },
    {
      "cell_type": "code",
      "source": [
        "name = 'Edward Snowden'"
      ],
      "outputs": [],
      "execution_count": 22,
      "metadata": {
        "gather": {
          "logged": 1757095918657
        }
      }
    },
    {
      "cell_type": "markdown",
      "source": [
        "### `string.replace()`\n",
        "Replaces characters inside a string:\n",
        "~~~python\n",
        "string.replace('old_substring', 'new_substring')\n",
        "~~~"
      ],
      "metadata": {}
    },
    {
      "cell_type": "code",
      "source": [
        "name.replace('Edward', 'Ed')"
      ],
      "outputs": [
        {
          "output_type": "execute_result",
          "execution_count": 23,
          "data": {
            "text/plain": "'Ed Snowden'"
          },
          "metadata": {}
        }
      ],
      "execution_count": 23,
      "metadata": {
        "gather": {
          "logged": 1757095918967
        }
      }
    },
    {
      "cell_type": "markdown",
      "source": [
        "Recall that strings are ***immutable***. They can be copied, manipulated and saved to a new variable. But they can't be changed per se. This concept transfers to other more complex constructs as well.\n",
        "\n",
        "Thus, the original string called `name` is still the same:"
      ],
      "metadata": {}
    },
    {
      "cell_type": "code",
      "source": [
        "name"
      ],
      "outputs": [
        {
          "output_type": "execute_result",
          "execution_count": 24,
          "data": {
            "text/plain": "'Edward Snowden'"
          },
          "metadata": {}
        }
      ],
      "execution_count": 24,
      "metadata": {
        "gather": {
          "logged": 1757095919301
        }
      }
    },
    {
      "cell_type": "markdown",
      "source": [
        "In order to save the replacement and retain the name of the variable, we could just reassign it to the same name:"
      ],
      "metadata": {}
    },
    {
      "cell_type": "code",
      "source": [
        "name = name.replace('Edward', 'Ed') "
      ],
      "outputs": [],
      "execution_count": 25,
      "metadata": {
        "gather": {
          "logged": 1757095919607
        }
      }
    },
    {
      "cell_type": "markdown",
      "source": [
        "Internally, the computer gives this new `name` variable a new id due to the immutability, but for us this does not really matter.  "
      ],
      "metadata": {}
    },
    {
      "cell_type": "markdown",
      "source": [
        "### `string.endswith()`\n",
        "This method might be self explanatory, but returns a ***boolean*** (`True` of `False`) depending on whether or not the strings ends with the specified substring.\n",
        "\n",
        "~~~python\n",
        "string.endswith('substring_to_test_for')\n",
        "~~~"
      ],
      "metadata": {}
    },
    {
      "cell_type": "code",
      "source": [
        "name.endswith('g')"
      ],
      "outputs": [
        {
          "output_type": "execute_result",
          "execution_count": 26,
          "data": {
            "text/plain": "False"
          },
          "metadata": {}
        }
      ],
      "execution_count": 26,
      "metadata": {
        "gather": {
          "logged": 1757095919915
        }
      }
    },
    {
      "cell_type": "code",
      "source": [
        "name.endswith('n')"
      ],
      "outputs": [
        {
          "output_type": "execute_result",
          "execution_count": 27,
          "data": {
            "text/plain": "True"
          },
          "metadata": {}
        }
      ],
      "execution_count": 27,
      "metadata": {
        "gather": {
          "logged": 1757095920298
        }
      }
    },
    {
      "cell_type": "code",
      "source": [
        "name.endswith('den')"
      ],
      "outputs": [
        {
          "output_type": "execute_result",
          "execution_count": 28,
          "data": {
            "text/plain": "True"
          },
          "metadata": {}
        }
      ],
      "execution_count": 28,
      "metadata": {
        "gather": {
          "logged": 1757095920636
        }
      }
    },
    {
      "cell_type": "markdown",
      "source": [
        "### `string.count()`\n",
        "Counts the number of occurences of a substring inside a string:\n",
        "~~~python\n",
        "string.count('substring_to_count')\n",
        "~~~\n",
        "\n"
      ],
      "metadata": {}
    },
    {
      "cell_type": "code",
      "source": [
        "text = 'This is how it is done'\n",
        "text.count('i')"
      ],
      "outputs": [
        {
          "output_type": "execute_result",
          "execution_count": 29,
          "data": {
            "text/plain": "4"
          },
          "metadata": {}
        }
      ],
      "execution_count": 29,
      "metadata": {
        "gather": {
          "logged": 1757095920994
        }
      }
    },
    {
      "cell_type": "code",
      "source": [
        "text.count('is')"
      ],
      "outputs": [
        {
          "output_type": "execute_result",
          "execution_count": 30,
          "data": {
            "text/plain": "3"
          },
          "metadata": {}
        }
      ],
      "execution_count": 30,
      "metadata": {
        "gather": {
          "logged": 1757095921473
        }
      }
    },
    {
      "cell_type": "markdown",
      "source": [
        "The match is case sensitive:"
      ],
      "metadata": {}
    },
    {
      "cell_type": "code",
      "source": [
        "text.count('t')"
      ],
      "outputs": [
        {
          "output_type": "execute_result",
          "execution_count": 40,
          "data": {
            "text/plain": "1"
          },
          "metadata": {}
        }
      ],
      "execution_count": 40,
      "metadata": {
        "gather": {
          "logged": 1757096139802
        }
      }
    },
    {
      "cell_type": "markdown",
      "source": [
        "## Conditionals and code indendation\n",
        "In Python, code blocks are separated by use of indentation. See the defintion of an `if`-statement below:\n",
        "\n",
        "### Syntax of conditional blocks\n",
        "    \n",
        "```python\n",
        "if condition:\n",
        "    # Code goes here (must be indented!)\n",
        "    # Otherwise, IndentationError will be thrown\n",
        "\n",
        "# Code placed here is outside of the if-statement    \n",
        "```\n",
        "\n",
        "Where evaluation of `condition` must return a boolean (`True` or `False`).\n",
        "\n",
        "\n",
        "> **Remember:**\n",
        "> 1. The `:` ***must*** be present after `condition`.\n",
        "> 2. The line immediately after `:` ***must*** be indented. \n",
        "> 3. The `if`-statement is ***exited by reverting the indentation*** as shown above.\n",
        "\n",
        "This is how Python interprets the code as a block.    \n",
        "\n",
        "The same indentation rules are required for all types of code blocks, the `if`-block above is just an example. Examples of other types of code blocks are `for` and `while` loops, functions etc.\n",
        "\n",
        "All editors will automatically make the indentation upon hitting enter after the `:`, so it doesn't take long to get used to this. \n",
        "\n",
        "### Comparison to other languages\n",
        "In many other programming languages indentation is not required. It is however still used as good practice to increase code readability. Instead of indentation, code blocks are denoted by encapsulating code in characters like `()`, `{}` etc.\n"
      ],
      "metadata": {}
    },
    {
      "cell_type": "markdown",
      "source": [
        "## Conditional statements - examples\n",
        "\n",
        "### `if`-statements\n",
        "An `if`-statement has the following syntax:"
      ],
      "metadata": {}
    },
    {
      "cell_type": "code",
      "source": [
        "x = 2\n",
        "if x > 1:\n",
        "    print('x is larger than 1')"
      ],
      "outputs": [
        {
          "output_type": "stream",
          "name": "stdout",
          "text": "x is larger than 1\n"
        }
      ],
      "execution_count": 32,
      "metadata": {
        "gather": {
          "logged": 1757095922119
        }
      }
    },
    {
      "cell_type": "markdown",
      "source": [
        "### `if` / `else`-statements"
      ],
      "metadata": {}
    },
    {
      "cell_type": "code",
      "source": [
        "y = 1\n",
        "if y > 1:\n",
        "    print('y is larger than 1')\n",
        "else:\n",
        "    print('y is less than or equal to 1')"
      ],
      "outputs": [
        {
          "output_type": "stream",
          "name": "stdout",
          "text": "y is less than or equal to 1\n"
        }
      ],
      "execution_count": 33,
      "metadata": {
        "gather": {
          "logged": 1757095922460
        }
      }
    },
    {
      "cell_type": "markdown",
      "source": [
        "### `if` / `elif` / `else`"
      ],
      "metadata": {}
    },
    {
      "cell_type": "code",
      "source": [
        "z = 0\n",
        "if z > 1:\n",
        "    print('z is larger than 1')\n",
        "elif z < 1:\n",
        "    print('z is less than 1')\n",
        "else:\n",
        "    print('z is equal to 1')"
      ],
      "outputs": [
        {
          "output_type": "stream",
          "name": "stdout",
          "text": "z is less than 1\n"
        }
      ],
      "execution_count": 34,
      "metadata": {
        "gather": {
          "logged": 1757095922775
        }
      }
    },
    {
      "cell_type": "markdown",
      "source": [
        "An unlimited number of `elif` blocks can be used in between `if` and `else`."
      ],
      "metadata": {}
    },
    {
      "cell_type": "markdown",
      "source": [
        "# Exercise 1"
      ],
      "metadata": {}
    },
    {
      "cell_type": "markdown",
      "source": [
        "Find the length of the following string:\n",
        "> ~~~~python\n",
        "> s = \"Batman's real name is Bruce Wayne\"\n",
        "> ~~~~"
      ],
      "metadata": {}
    },
    {
      "cell_type": "markdown",
      "source": [
        "# Exercise 2\n",
        "Test if `s` from above has *\"Wayne\"* as last characters (should return `True` of course)"
      ],
      "metadata": {}
    },
    {
      "cell_type": "markdown",
      "source": [
        "# Exercise 3\n",
        "Print the following sentence using an `f-string`:\n",
        "\n",
        "```python\n",
        "'The string s has a length of {insert_length_of_s} items.'\n",
        "```\n",
        "\n",
        "Use `s` from above."
      ],
      "metadata": {}
    },
    {
      "cell_type": "markdown",
      "source": [
        "# Exercise 4\n",
        "Use the `count()` method to print the number of ***e***'s in the string `s` form above."
      ],
      "metadata": {}
    },
    {
      "cell_type": "markdown",
      "source": [
        "# Exercise 5\n",
        "Use the `replace()` method to replace `Ø` with `Y` in the following string:\n",
        "\n",
        ">~~~python\n",
        "string1 = '33Ø12'\n",
        ">~~~\n",
        "\n",
        "Save the new string in a variable `string2` and print the following sentence:\n",
        "```python\n",
        "'The string {insert_string1} was replaced by {insert_string2}'\n",
        "```"
      ],
      "metadata": {}
    },
    {
      "cell_type": "markdown",
      "source": [
        "# Exercise 6\n",
        "If the string below has more than 100 characters, print *\"String has more than 100 characters\"*, otherwise print *\"String has less than or exactly 100 characters\"*.\n",
        "~~~python\n",
        "dummy_string = 'Lorem ipsum is placeholder text commonly used in the graphic, print, and publishing industries for previewing layouts and visual mockups.'\n",
        "~~~"
      ],
      "metadata": {}
    },
    {
      "cell_type": "markdown",
      "source": [
        "# Exercise 7\n",
        "Print the number of space characters in `dummy_string` from above. "
      ],
      "metadata": {}
    },
    {
      "cell_type": "markdown",
      "source": [
        "# Exercise 8\n",
        "Create the variables\n",
        "\n",
        "```python\n",
        "letter1 = 'e'\n",
        "letter2 = 'm'\n",
        "```\n",
        "\n",
        "Convert this pseudo code to a Python program:\n",
        "\n",
        "```python\n",
        "if there are more occurrences of letter1 than letter2 in dummy_string:\n",
        "    print(\"There are more {insert_letter1}'s than {insert_letter2}'s\")\n",
        "    \n",
        "elif there are more occurrences of letter2 than letter1 in dummy_string:\n",
        "    print(\"There are more {insert_letter2}'s than {insert_letter1}'s\")\n",
        "\n",
        "else:\n",
        "    print(\"There are exactly the same number {insert_letter1}'s and {insert_letter2}'s\")\n",
        "```"
      ],
      "metadata": {}
    },
    {
      "cell_type": "markdown",
      "source": [
        "# Exercise 9\n",
        "Test the program you wrote above with different combinations of letters for the variables `letter1` and `letter2`. \n",
        "\n",
        "If you are still with us at this point you can try to implement a print message of the actual number of occurrences."
      ],
      "metadata": {}
    },
    {
      "cell_type": "markdown",
      "source": [
        "---\n",
        "\n",
        "# End of exercises\n",
        "\n",
        "*The cell below is for setting the style of this document. It's not part of the exercises.* "
      ],
      "metadata": {}
    },
    {
      "cell_type": "code",
      "source": [
        "from IPython.display import HTML\n",
        "HTML('<style>{}</style>'.format(open('../css/cowi.css').read()))"
      ],
      "outputs": [
        {
          "output_type": "execute_result",
          "execution_count": 35,
          "data": {
            "text/plain": "<IPython.core.display.HTML object>",
            "text/html": "<style>\n/* div#notebook {\n font-size: 13pt;\n line-height: 120%;\n color: #303030;\n -webkit-font-smoothing: antialiased !important;\n padding-top: 25px !important;\n} */\n\n\nbody,\ndiv.body {\n font-family: Roboto;\n /* font-size: 16pt; */\n color: #303030;\n /* background-color: #d1b5b5; */\n /* background: #8f4f4f; */\n margin-right: 10px;\n /* -webkit-font-smoothing: antialiased !important; */\n}\n\n/* Code inside HTML/Markdown */\ndiv.rendered_html code {\n    border-radius: 5px;\n}\n\n/* Output area from code cells */\ndiv.output_area pre {\n    /* font-size: 11pt !important; */\n    color: #303030;\n}\n\n\n\n/* HEADING 1 styles */\nh1 {\n    font-family: 'Roboto', 'Signika', sans-serif;\n    font-weight: ligher;\n    font-style: normal;\n    /* font-size: 20pt; */\n    width: 100%;\n    text-align: left;\n    color: #EE7631;\n    border-bottom: 1px solid rgba(238, 118, 49, 0.575);\n    padding-bottom: 6px;\n    /* font-variant: small-caps; */\n    }\n  \n    /* table {\n        margin: 5px;\n        width: 290px;\n    }\n  \n    th {\n        padding: 3px;\n    }\n  \n    td {\n        padding-left: 8px;\n        padding-right: 8px;\n        border: 1px solid #990000;\n        background-color: #ffffcc;\n    }\n\n    #trHeader {\n        text-decoration: underline;\n        color: #990000;\n    }\n  \n    .centerCell {\n        text-align: center;\n    } */\n\n/* HEADING 2 styles */\nh2 {\n        font-family: \"Roboto\";\n        text-align: left;\n        /* font-size: 12pt; */\n        color: #EE7631;\n        margin-bottom: 5px;\n        /* border-bottom: 1px solid lightgray; */\n        border-bottom: 0.8px solid rgba(238, 118, 49, 0.575);\n        padding-bottom: 6px\n    }\n  \n    /* table {\n        margin: 5px;\n        width: 290px;\n    }\n  \n    th {\n        padding: 3px;\n    }\n  \n    td {\n        padding-left: 8px;\n        padding-right: 8px;\n        border: 1px solid #990000;\n        background-color: #ffffcc;\n    }\n\n    #trHeader {\n        text-decoration: underline;\n        color: #990000;\n    }\n  \n    .centerCell {\n        text-align: center;\n    } */\n\nh3 {\n        font-family: 'Roboto';\n        /* text-align: left; */\n        /* font-size: 12pt; */\n        /* color: #EE7631; */\n        /* margin-bottom: 5px; */\n        border-bottom: 0.5px solid #ededed;\n        padding-bottom: 6px\n    }\n\n\n\np {\n    font-family: Roboto;\n    font-size: 16px;\n}\n\n/* Lists  with dots */\nul {\n    font-size: 16px;\n    line-height: 150%;\n}\n\n/* Lists  with numbers */\nol {\n    font-size: 16px;\n    line-height: 150%;\n}\n\n/* Horizontal rules */\nhr { \n    margin-top: 3px; \n    margin-bottom: 3px \n}\n\n/* Links */\na {\n  color: #EE7631;\n}\n\n\n/* Change global font size (for code) */\n.CodeMirror {\nfont-size: 16px !important;\nfont-family: monospace;\n}\n\n\n/* Code cells in the notebook - NOTE: color is font-color */\n.cm-s-ipython.CodeMirror {\n font-family: monospace, monospace;\n /* font-size: 11pt; */\n background: #ededed;\n color: #303030;     \n border-radius: 2px;\n /* margin-right: 10px; */\n font-style: normal;\n font-weight: normal;\n}\n\n\n/* Background of code cells */\n.cm-s-ipython.CodeMirror {\n font-family: monospace, monospace;\n /* font-size: 11pt; */\n background: rgba(211, 211, 211, 0.123);\n color: #303030;\n border-radius: 2px;\n font-style: normal;\n font-weight: normal;\n}\n\n\n/* .CodeMirror-gutters {\n border: none;\n border-right: 1px solid #e0e1e3 !important;\n background-color: #e0e1e3 !important;\n background: #e0e1e3 !important;\n border-radius: 0px;\n white-space: nowrap;\n} */\n\n\n\n/* Code syntax highlithig theme */\n.cm-s-ipython .CodeMirror-cursor {\n border-left: 2px solid #ff711a !important;\n}\n.cm-s-ipython span.cm-comment {\n color: #8d8d8d;\n font-style: italic;                                                   \n}\n.cm-s-ipython span.cm-atom {\n color: #055be0;\n}\n.cm-s-ipython span.cm-number {\n color: #ff8132;\n}\n.cm-s-ipython span.cm-property {\n color: #303030;\n}\n.cm-s-ipython span.cm-attribute {\n color: #303030;\n}\n.cm-s-ipython span.cm-keyword {\n color: #a045ddf3;\n font-weight: normal;\n}\n.cm-s-ipython span.cm-string {\n color: #009e07;\n}\n.cm-s-ipython span.cm-meta {\n color: #aa22ff;\n}\n.cm-s-ipython span.cm-operator {\n color: #055be0;\n}\n.cm-s-ipython span.cm-builtin {\n color: #3f2ce7;\n}\n.cm-s-ipython span.cm-variable {\n color: #303030;\n}\n.cm-s-ipython span.cm-variable-2 {\n color: #de143d;\n}\n.cm-s-ipython span.cm-variable-3 {\n color: #aa22ff;\n}\n.cm-s-ipython span.cm-def {\n color: #e22978;\n font-weight: normal;\n}\n.cm-s-ipython span.cm-error {\n background: rgba(191,11,55,.70);\n}\n.cm-s-ipython span.cm-tag {\n color: #e22978;\n}\n.cm-s-ipython span.cm-link {\n color: #ef5c00;\n}\n.cm-s-ipython span.cm-storage {\n color: #055be0;\n}\n.cm-s-ipython span.cm-entity {\n color: #e22978;\n}\n.cm-s-ipython span.cm-quote {\n color: #009e07;\n}\n</style>"
          },
          "metadata": {}
        }
      ],
      "execution_count": 35,
      "metadata": {
        "gather": {
          "logged": 1757095923066
        }
      }
    }
  ],
  "metadata": {
    "hide_input": false,
    "kernelspec": {
      "name": "python3",
      "language": "python",
      "display_name": "Python 3 (ipykernel)"
    },
    "language_info": {
      "name": "python",
      "version": "3.10.18",
      "mimetype": "text/x-python",
      "codemirror_mode": {
        "name": "ipython",
        "version": 3
      },
      "pygments_lexer": "ipython3",
      "nbconvert_exporter": "python",
      "file_extension": ".py"
    },
    "latex_envs": {
      "report_style_numbering": false,
      "hotkeys": {
        "equation": "Ctrl-E",
        "itemize": "Ctrl-I"
      },
      "LaTeX_envs_menu_present": true,
      "autocomplete": true,
      "autoclose": false,
      "eqNumInitial": 1,
      "bibliofile": "biblio.bib",
      "latex_user_defs": false,
      "current_citInitial": 1,
      "eqLabelWithNumbers": true,
      "labels_anchors": false,
      "cite_by": "apalike",
      "user_envs_cfg": false
    },
    "toc": {
      "toc_position": {},
      "skip_h1_title": false,
      "number_sections": false,
      "title_cell": "Table of Contents",
      "toc_window_display": true,
      "base_numbering": 1,
      "toc_section_display": true,
      "title_sidebar": "Table of Contents",
      "toc_cell": false,
      "nav_menu": {},
      "sideBar": true
    },
    "microsoft": {
      "ms_spell_check": {
        "ms_spell_check_language": "en"
      }
    },
    "kernel_info": {
      "name": "python3"
    },
    "nteract": {
      "version": "nteract-front-end@1.0.0"
    }
  },
  "nbformat": 4,
  "nbformat_minor": 2
}