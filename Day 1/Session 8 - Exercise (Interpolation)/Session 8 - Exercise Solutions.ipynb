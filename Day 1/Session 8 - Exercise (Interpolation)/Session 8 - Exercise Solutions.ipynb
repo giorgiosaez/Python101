{
  "cells": [
    {
      "cell_type": "markdown",
      "source": [
        "# 8. Exercise solution\n",
        "\n",
        "The full script is provided below."
      ],
      "metadata": {}
    },
    {
      "cell_type": "code",
      "source": [
        "%pip install openpyxl"
      ],
      "outputs": [
        {
          "output_type": "stream",
          "name": "stdout",
          "text": "Collecting openpyxl\n  Downloading openpyxl-3.1.5-py2.py3-none-any.whl.metadata (2.5 kB)\nCollecting et-xmlfile (from openpyxl)\n  Downloading et_xmlfile-2.0.0-py3-none-any.whl.metadata (2.7 kB)\nDownloading openpyxl-3.1.5-py2.py3-none-any.whl (250 kB)\nDownloading et_xmlfile-2.0.0-py3-none-any.whl (18 kB)\nInstalling collected packages: et-xmlfile, openpyxl\n\u001b[2K   \u001b[90m━━━━━━━━━━━━━━━━━━━━━━━━━━━━━━━━━━━━━━━━\u001b[0m \u001b[32m2/2\u001b[0m [openpyxl]1/2\u001b[0m [openpyxl]\n\u001b[1A\u001b[2KSuccessfully installed et-xmlfile-2.0.0 openpyxl-3.1.5\nNote: you may need to restart the kernel to use updated packages.\n"
        }
      ],
      "execution_count": 3,
      "metadata": {}
    },
    {
      "cell_type": "code",
      "source": [
        "\n",
        "import pandas as pd\n",
        "import numpy as np\n",
        "from scipy.interpolate import griddata\n",
        "import matplotlib.pyplot as plt\n",
        "from mpl_toolkits.mplot3d import Axes3D\n",
        "\n",
        "\n",
        "# Set name of Excel file to read containing known points\n",
        "file_known = 'known_points.xlsx'\n",
        "\n",
        "# Set name of sheet to read from Excel file\n",
        "sheet_known = 'Sheet1'\n",
        "\n",
        "# Read data from Excel sheet into a dataframe\n",
        "df = pd.read_excel(file_known, sheet_name=sheet_known, skiprows=7)\n",
        "\n",
        "# Extract column names starting with 'Y' into new dataframe of known Y-coords\n",
        "df_y = df[df.columns[df.columns.str.startswith('Y')]]\n",
        "\n",
        "# Extract column names starting with 'Z' into new dataframe of known Z-coords\n",
        "df_z_known = df[df.columns[df.columns.str.startswith('Z')]]\n",
        "\n",
        "# Flatten dataframe values into 1D array (matri format -> vector format)\n",
        "y_known = df_y.values.flatten()\n",
        "z_known = df_z_known.values.flatten()\n",
        "\n",
        "# Extract known x-values\n",
        "x_known = df['X']\n",
        "\n",
        "# Create X-array by repeating itself as many times as there are Y-columns\n",
        "# This will create matching(x, y)-points between arrays x and y\n",
        "x_known = np.repeat(x_known, len(df_y.columns))\n",
        "\n",
        "# Mirror known y-values and add corresponding x- and y-values\n",
        "x_known = np.append(x_known, x_known)\n",
        "y_known = np.append(y_known, -y_known)\n",
        "z_known = np.append(z_known, z_known)\n",
        "\n",
        "# Arrange known (x, y) points to fit input for interpolation\n",
        "xy_known = np.array(list(zip(x_known, y_known)))\n",
        "\n",
        "# Set names and read Excel file with nodes to be interpolated\n",
        "file_nodes = 'points_to_be_interpolated.xlsx'\n",
        "sheet_nodes = 'XLSX-Export'\n",
        "df_nodes = pd.read_excel(file_nodes, sheet_name=sheet_nodes)\n",
        "\n",
        "# Extract x- and y-coordinates of nodes to be interpolated\n",
        "x_nodes = df_nodes['X [m]']\n",
        "y_nodes = df_nodes['Y [m]']\n",
        "\n",
        "# Extract node numbers for points to be interpolated\n",
        "node_no = df_nodes['NR']\n",
        "\n",
        "# Perform interpolation calculation\n",
        "z_interpolated = griddata(xy_known, z_known, (x_nodes, y_nodes), method='cubic')\n",
        "\n",
        "\n",
        "####################\n",
        "### Exercise 1.2 ###\n",
        "####################\n",
        "# Create figure object\n",
        "fig = plt.figure()\n",
        "\n",
        "# Create axis object for 3D plot\n",
        "ax = fig.add_subplot(111, projection='3d')\n",
        "\n",
        "# Plot known points as 3D scatter plot (ax.scatter(...))\n",
        "ax.scatter(x_known, y_known, z_known, '-.', color='limegreen')\n",
        "\n",
        "# Plot interpolated points as 3D scatter plot\n",
        "ax.scatter(x_nodes, y_nodes, z_interpolated,\n",
        "           '.', color='cornflowerblue', s=0.1)\n",
        "\n",
        "# Show figure\n",
        "plt.show()\n",
        "\n",
        "\n",
        "####################\n",
        "### Exercise 1.3 ###\n",
        "####################\n",
        "# Write Sofistik input code to .dat-file for applying the interpolated z-values as\n",
        "# imposed displacement load (settlement) in all points (x, y)\n",
        "with open(f'generated_file.dat', 'w') as file:\n",
        "\n",
        "    # Write the 'static' text to file\n",
        "    file.write('''+PROG SOFILOAD \n",
        "\n",
        "LC 25 type 'P' fact 1.0 facd 0.0 titl 'LT settlement all nodes'  \\n''')\n",
        "\n",
        "    # Write the 'variable' text to file with node number/settlement pairs\n",
        "    for node, settlement in zip(node_no, z_interpolated):\n",
        "        file.write(f'  POIN NODE {node} WIDE 0 TYPE WZZ {settlement} \\n')\n",
        "\n",
        "    # Write 'static' END statement to file\n",
        "    file.write('END')\n"
      ],
      "outputs": [
        {
          "output_type": "error",
          "ename": "ImportError",
          "evalue": "Missing optional dependency 'openpyxl'.  Use pip or conda to install openpyxl.",
          "traceback": [
            "\u001b[0;31m---------------------------------------------------------------------------\u001b[0m",
            "\u001b[0;31mModuleNotFoundError\u001b[0m                       Traceback (most recent call last)",
            "File \u001b[0;32m/anaconda/envs/jupyter_env/lib/python3.10/site-packages/pandas/compat/_optional.py:135\u001b[0m, in \u001b[0;36mimport_optional_dependency\u001b[0;34m(name, extra, errors, min_version)\u001b[0m\n\u001b[1;32m    134\u001b[0m \u001b[38;5;28;01mtry\u001b[39;00m:\n\u001b[0;32m--> 135\u001b[0m     module \u001b[38;5;241m=\u001b[39m \u001b[43mimportlib\u001b[49m\u001b[38;5;241;43m.\u001b[39;49m\u001b[43mimport_module\u001b[49m\u001b[43m(\u001b[49m\u001b[43mname\u001b[49m\u001b[43m)\u001b[49m\n\u001b[1;32m    136\u001b[0m \u001b[38;5;28;01mexcept\u001b[39;00m \u001b[38;5;167;01mImportError\u001b[39;00m:\n",
            "File \u001b[0;32m/anaconda/envs/jupyter_env/lib/python3.10/importlib/__init__.py:126\u001b[0m, in \u001b[0;36mimport_module\u001b[0;34m(name, package)\u001b[0m\n\u001b[1;32m    125\u001b[0m         level \u001b[38;5;241m+\u001b[39m\u001b[38;5;241m=\u001b[39m \u001b[38;5;241m1\u001b[39m\n\u001b[0;32m--> 126\u001b[0m \u001b[38;5;28;01mreturn\u001b[39;00m \u001b[43m_bootstrap\u001b[49m\u001b[38;5;241;43m.\u001b[39;49m\u001b[43m_gcd_import\u001b[49m\u001b[43m(\u001b[49m\u001b[43mname\u001b[49m\u001b[43m[\u001b[49m\u001b[43mlevel\u001b[49m\u001b[43m:\u001b[49m\u001b[43m]\u001b[49m\u001b[43m,\u001b[49m\u001b[43m \u001b[49m\u001b[43mpackage\u001b[49m\u001b[43m,\u001b[49m\u001b[43m \u001b[49m\u001b[43mlevel\u001b[49m\u001b[43m)\u001b[49m\n",
            "File \u001b[0;32m<frozen importlib._bootstrap>:1050\u001b[0m, in \u001b[0;36m_gcd_import\u001b[0;34m(name, package, level)\u001b[0m\n",
            "File \u001b[0;32m<frozen importlib._bootstrap>:1027\u001b[0m, in \u001b[0;36m_find_and_load\u001b[0;34m(name, import_)\u001b[0m\n",
            "File \u001b[0;32m<frozen importlib._bootstrap>:1004\u001b[0m, in \u001b[0;36m_find_and_load_unlocked\u001b[0;34m(name, import_)\u001b[0m\n",
            "\u001b[0;31mModuleNotFoundError\u001b[0m: No module named 'openpyxl'",
            "\nDuring handling of the above exception, another exception occurred:\n",
            "\u001b[0;31mImportError\u001b[0m                               Traceback (most recent call last)",
            "Cell \u001b[0;32mIn[2], line 15\u001b[0m\n\u001b[1;32m     12\u001b[0m sheet_known \u001b[38;5;241m=\u001b[39m \u001b[38;5;124m'\u001b[39m\u001b[38;5;124mSheet1\u001b[39m\u001b[38;5;124m'\u001b[39m\n\u001b[1;32m     14\u001b[0m \u001b[38;5;66;03m# Read data from Excel sheet into a dataframe\u001b[39;00m\n\u001b[0;32m---> 15\u001b[0m df \u001b[38;5;241m=\u001b[39m \u001b[43mpd\u001b[49m\u001b[38;5;241;43m.\u001b[39;49m\u001b[43mread_excel\u001b[49m\u001b[43m(\u001b[49m\u001b[43mfile_known\u001b[49m\u001b[43m,\u001b[49m\u001b[43m \u001b[49m\u001b[43msheet_name\u001b[49m\u001b[38;5;241;43m=\u001b[39;49m\u001b[43msheet_known\u001b[49m\u001b[43m,\u001b[49m\u001b[43m \u001b[49m\u001b[43mskiprows\u001b[49m\u001b[38;5;241;43m=\u001b[39;49m\u001b[38;5;241;43m7\u001b[39;49m\u001b[43m)\u001b[49m\n\u001b[1;32m     17\u001b[0m \u001b[38;5;66;03m# Extract column names starting with 'Y' into new dataframe of known Y-coords\u001b[39;00m\n\u001b[1;32m     18\u001b[0m df_y \u001b[38;5;241m=\u001b[39m df[df\u001b[38;5;241m.\u001b[39mcolumns[df\u001b[38;5;241m.\u001b[39mcolumns\u001b[38;5;241m.\u001b[39mstr\u001b[38;5;241m.\u001b[39mstartswith(\u001b[38;5;124m'\u001b[39m\u001b[38;5;124mY\u001b[39m\u001b[38;5;124m'\u001b[39m)]]\n",
            "File \u001b[0;32m/anaconda/envs/jupyter_env/lib/python3.10/site-packages/pandas/io/excel/_base.py:495\u001b[0m, in \u001b[0;36mread_excel\u001b[0;34m(io, sheet_name, header, names, index_col, usecols, dtype, engine, converters, true_values, false_values, skiprows, nrows, na_values, keep_default_na, na_filter, verbose, parse_dates, date_parser, date_format, thousands, decimal, comment, skipfooter, storage_options, dtype_backend, engine_kwargs)\u001b[0m\n\u001b[1;32m    493\u001b[0m \u001b[38;5;28;01mif\u001b[39;00m \u001b[38;5;129;01mnot\u001b[39;00m \u001b[38;5;28misinstance\u001b[39m(io, ExcelFile):\n\u001b[1;32m    494\u001b[0m     should_close \u001b[38;5;241m=\u001b[39m \u001b[38;5;28;01mTrue\u001b[39;00m\n\u001b[0;32m--> 495\u001b[0m     io \u001b[38;5;241m=\u001b[39m \u001b[43mExcelFile\u001b[49m\u001b[43m(\u001b[49m\n\u001b[1;32m    496\u001b[0m \u001b[43m        \u001b[49m\u001b[43mio\u001b[49m\u001b[43m,\u001b[49m\n\u001b[1;32m    497\u001b[0m \u001b[43m        \u001b[49m\u001b[43mstorage_options\u001b[49m\u001b[38;5;241;43m=\u001b[39;49m\u001b[43mstorage_options\u001b[49m\u001b[43m,\u001b[49m\n\u001b[1;32m    498\u001b[0m \u001b[43m        \u001b[49m\u001b[43mengine\u001b[49m\u001b[38;5;241;43m=\u001b[39;49m\u001b[43mengine\u001b[49m\u001b[43m,\u001b[49m\n\u001b[1;32m    499\u001b[0m \u001b[43m        \u001b[49m\u001b[43mengine_kwargs\u001b[49m\u001b[38;5;241;43m=\u001b[39;49m\u001b[43mengine_kwargs\u001b[49m\u001b[43m,\u001b[49m\n\u001b[1;32m    500\u001b[0m \u001b[43m    \u001b[49m\u001b[43m)\u001b[49m\n\u001b[1;32m    501\u001b[0m \u001b[38;5;28;01melif\u001b[39;00m engine \u001b[38;5;129;01mand\u001b[39;00m engine \u001b[38;5;241m!=\u001b[39m io\u001b[38;5;241m.\u001b[39mengine:\n\u001b[1;32m    502\u001b[0m     \u001b[38;5;28;01mraise\u001b[39;00m \u001b[38;5;167;01mValueError\u001b[39;00m(\n\u001b[1;32m    503\u001b[0m         \u001b[38;5;124m\"\u001b[39m\u001b[38;5;124mEngine should not be specified when passing \u001b[39m\u001b[38;5;124m\"\u001b[39m\n\u001b[1;32m    504\u001b[0m         \u001b[38;5;124m\"\u001b[39m\u001b[38;5;124man ExcelFile - ExcelFile already has the engine set\u001b[39m\u001b[38;5;124m\"\u001b[39m\n\u001b[1;32m    505\u001b[0m     )\n",
            "File \u001b[0;32m/anaconda/envs/jupyter_env/lib/python3.10/site-packages/pandas/io/excel/_base.py:1567\u001b[0m, in \u001b[0;36mExcelFile.__init__\u001b[0;34m(self, path_or_buffer, engine, storage_options, engine_kwargs)\u001b[0m\n\u001b[1;32m   1564\u001b[0m \u001b[38;5;28mself\u001b[39m\u001b[38;5;241m.\u001b[39mengine \u001b[38;5;241m=\u001b[39m engine\n\u001b[1;32m   1565\u001b[0m \u001b[38;5;28mself\u001b[39m\u001b[38;5;241m.\u001b[39mstorage_options \u001b[38;5;241m=\u001b[39m storage_options\n\u001b[0;32m-> 1567\u001b[0m \u001b[38;5;28mself\u001b[39m\u001b[38;5;241m.\u001b[39m_reader \u001b[38;5;241m=\u001b[39m \u001b[38;5;28;43mself\u001b[39;49m\u001b[38;5;241;43m.\u001b[39;49m\u001b[43m_engines\u001b[49m\u001b[43m[\u001b[49m\u001b[43mengine\u001b[49m\u001b[43m]\u001b[49m\u001b[43m(\u001b[49m\n\u001b[1;32m   1568\u001b[0m \u001b[43m    \u001b[49m\u001b[38;5;28;43mself\u001b[39;49m\u001b[38;5;241;43m.\u001b[39;49m\u001b[43m_io\u001b[49m\u001b[43m,\u001b[49m\n\u001b[1;32m   1569\u001b[0m \u001b[43m    \u001b[49m\u001b[43mstorage_options\u001b[49m\u001b[38;5;241;43m=\u001b[39;49m\u001b[43mstorage_options\u001b[49m\u001b[43m,\u001b[49m\n\u001b[1;32m   1570\u001b[0m \u001b[43m    \u001b[49m\u001b[43mengine_kwargs\u001b[49m\u001b[38;5;241;43m=\u001b[39;49m\u001b[43mengine_kwargs\u001b[49m\u001b[43m,\u001b[49m\n\u001b[1;32m   1571\u001b[0m \u001b[43m\u001b[49m\u001b[43m)\u001b[49m\n",
            "File \u001b[0;32m/anaconda/envs/jupyter_env/lib/python3.10/site-packages/pandas/io/excel/_openpyxl.py:552\u001b[0m, in \u001b[0;36mOpenpyxlReader.__init__\u001b[0;34m(self, filepath_or_buffer, storage_options, engine_kwargs)\u001b[0m\n\u001b[1;32m    534\u001b[0m \u001b[38;5;129m@doc\u001b[39m(storage_options\u001b[38;5;241m=\u001b[39m_shared_docs[\u001b[38;5;124m\"\u001b[39m\u001b[38;5;124mstorage_options\u001b[39m\u001b[38;5;124m\"\u001b[39m])\n\u001b[1;32m    535\u001b[0m \u001b[38;5;28;01mdef\u001b[39;00m\u001b[38;5;250m \u001b[39m\u001b[38;5;21m__init__\u001b[39m(\n\u001b[1;32m    536\u001b[0m     \u001b[38;5;28mself\u001b[39m,\n\u001b[0;32m   (...)\u001b[0m\n\u001b[1;32m    539\u001b[0m     engine_kwargs: \u001b[38;5;28mdict\u001b[39m \u001b[38;5;241m|\u001b[39m \u001b[38;5;28;01mNone\u001b[39;00m \u001b[38;5;241m=\u001b[39m \u001b[38;5;28;01mNone\u001b[39;00m,\n\u001b[1;32m    540\u001b[0m ) \u001b[38;5;241m-\u001b[39m\u001b[38;5;241m>\u001b[39m \u001b[38;5;28;01mNone\u001b[39;00m:\n\u001b[1;32m    541\u001b[0m \u001b[38;5;250m    \u001b[39m\u001b[38;5;124;03m\"\"\"\u001b[39;00m\n\u001b[1;32m    542\u001b[0m \u001b[38;5;124;03m    Reader using openpyxl engine.\u001b[39;00m\n\u001b[1;32m    543\u001b[0m \n\u001b[0;32m   (...)\u001b[0m\n\u001b[1;32m    550\u001b[0m \u001b[38;5;124;03m        Arbitrary keyword arguments passed to excel engine.\u001b[39;00m\n\u001b[1;32m    551\u001b[0m \u001b[38;5;124;03m    \"\"\"\u001b[39;00m\n\u001b[0;32m--> 552\u001b[0m     \u001b[43mimport_optional_dependency\u001b[49m\u001b[43m(\u001b[49m\u001b[38;5;124;43m\"\u001b[39;49m\u001b[38;5;124;43mopenpyxl\u001b[39;49m\u001b[38;5;124;43m\"\u001b[39;49m\u001b[43m)\u001b[49m\n\u001b[1;32m    553\u001b[0m     \u001b[38;5;28msuper\u001b[39m()\u001b[38;5;241m.\u001b[39m\u001b[38;5;21m__init__\u001b[39m(\n\u001b[1;32m    554\u001b[0m         filepath_or_buffer,\n\u001b[1;32m    555\u001b[0m         storage_options\u001b[38;5;241m=\u001b[39mstorage_options,\n\u001b[1;32m    556\u001b[0m         engine_kwargs\u001b[38;5;241m=\u001b[39mengine_kwargs,\n\u001b[1;32m    557\u001b[0m     )\n",
            "File \u001b[0;32m/anaconda/envs/jupyter_env/lib/python3.10/site-packages/pandas/compat/_optional.py:138\u001b[0m, in \u001b[0;36mimport_optional_dependency\u001b[0;34m(name, extra, errors, min_version)\u001b[0m\n\u001b[1;32m    136\u001b[0m \u001b[38;5;28;01mexcept\u001b[39;00m \u001b[38;5;167;01mImportError\u001b[39;00m:\n\u001b[1;32m    137\u001b[0m     \u001b[38;5;28;01mif\u001b[39;00m errors \u001b[38;5;241m==\u001b[39m \u001b[38;5;124m\"\u001b[39m\u001b[38;5;124mraise\u001b[39m\u001b[38;5;124m\"\u001b[39m:\n\u001b[0;32m--> 138\u001b[0m         \u001b[38;5;28;01mraise\u001b[39;00m \u001b[38;5;167;01mImportError\u001b[39;00m(msg)\n\u001b[1;32m    139\u001b[0m     \u001b[38;5;28;01mreturn\u001b[39;00m \u001b[38;5;28;01mNone\u001b[39;00m\n\u001b[1;32m    141\u001b[0m \u001b[38;5;66;03m# Handle submodules: if we have submodule, grab parent module from sys.modules\u001b[39;00m\n",
            "\u001b[0;31mImportError\u001b[0m: Missing optional dependency 'openpyxl'.  Use pip or conda to install openpyxl."
          ]
        }
      ],
      "execution_count": 2,
      "metadata": {
        "jupyter": {
          "source_hidden": false,
          "outputs_hidden": false
        },
        "nteract": {
          "transient": {
            "deleting": false
          }
        },
        "gather": {
          "logged": 1757037829167
        }
      }
    },
    {
      "cell_type": "markdown",
      "source": [
        "# End of exercises\n",
        "\n",
        "*The cell below is for setting the style of this document. It's not part of the exercises.*"
      ],
      "metadata": {}
    },
    {
      "cell_type": "code",
      "source": [
        "from IPython.display import HTML\n",
        "HTML('<style>{}</style>'.format(open('../css/cowi.css').read()))"
      ],
      "outputs": [
        {
          "output_type": "execute_result",
          "execution_count": 1,
          "data": {
            "text/plain": "<IPython.core.display.HTML object>",
            "text/html": "<style>\n/* div#notebook {\n font-size: 13pt;\n line-height: 120%;\n color: #303030;\n -webkit-font-smoothing: antialiased !important;\n padding-top: 25px !important;\n} */\n\n\nbody,\ndiv.body {\n font-family: Roboto;\n /* font-size: 16pt; */\n color: #303030;\n /* background-color: #d1b5b5; */\n /* background: #8f4f4f; */\n margin-right: 10px;\n /* -webkit-font-smoothing: antialiased !important; */\n}\n\n/* Code inside HTML/Markdown */\ndiv.rendered_html code {\n    border-radius: 5px;\n}\n\n/* Output area from code cells */\ndiv.output_area pre {\n    /* font-size: 11pt !important; */\n    color: #303030;\n}\n\n\n\n/* HEADING 1 styles */\nh1 {\n    font-family: 'Roboto', 'Signika', sans-serif;\n    font-weight: ligher;\n    font-style: normal;\n    /* font-size: 20pt; */\n    width: 100%;\n    text-align: left;\n    color: #EE7631;\n    border-bottom: 1px solid rgba(238, 118, 49, 0.575);\n    padding-bottom: 6px;\n    /* font-variant: small-caps; */\n    }\n  \n    /* table {\n        margin: 5px;\n        width: 290px;\n    }\n  \n    th {\n        padding: 3px;\n    }\n  \n    td {\n        padding-left: 8px;\n        padding-right: 8px;\n        border: 1px solid #990000;\n        background-color: #ffffcc;\n    }\n\n    #trHeader {\n        text-decoration: underline;\n        color: #990000;\n    }\n  \n    .centerCell {\n        text-align: center;\n    } */\n\n/* HEADING 2 styles */\nh2 {\n        font-family: \"Roboto\";\n        text-align: left;\n        /* font-size: 12pt; */\n        color: #EE7631;\n        margin-bottom: 5px;\n        /* border-bottom: 1px solid lightgray; */\n        border-bottom: 0.8px solid rgba(238, 118, 49, 0.575);\n        padding-bottom: 6px\n    }\n  \n    /* table {\n        margin: 5px;\n        width: 290px;\n    }\n  \n    th {\n        padding: 3px;\n    }\n  \n    td {\n        padding-left: 8px;\n        padding-right: 8px;\n        border: 1px solid #990000;\n        background-color: #ffffcc;\n    }\n\n    #trHeader {\n        text-decoration: underline;\n        color: #990000;\n    }\n  \n    .centerCell {\n        text-align: center;\n    } */\n\nh3 {\n        font-family: 'Roboto';\n        /* text-align: left; */\n        /* font-size: 12pt; */\n        /* color: #EE7631; */\n        /* margin-bottom: 5px; */\n        border-bottom: 0.5px solid #ededed;\n        padding-bottom: 6px\n    }\n\n\n\np {\n    font-family: Roboto;\n    font-size: 16px;\n}\n\n/* Lists  with dots */\nul {\n    font-size: 16px;\n    line-height: 150%;\n}\n\n/* Lists  with numbers */\nol {\n    font-size: 16px;\n    line-height: 150%;\n}\n\n/* Horizontal rules */\nhr { \n    margin-top: 3px; \n    margin-bottom: 3px \n}\n\n/* Links */\na {\n  color: #EE7631;\n}\n\n\n/* Change global font size (for code) */\n.CodeMirror {\nfont-size: 16px !important;\nfont-family: monospace;\n}\n\n\n/* Code cells in the notebook - NOTE: color is font-color */\n.cm-s-ipython.CodeMirror {\n font-family: monospace, monospace;\n /* font-size: 11pt; */\n background: #ededed;\n color: #303030;     \n border-radius: 2px;\n /* margin-right: 10px; */\n font-style: normal;\n font-weight: normal;\n}\n\n\n/* Background of code cells */\n.cm-s-ipython.CodeMirror {\n font-family: monospace, monospace;\n /* font-size: 11pt; */\n background: rgba(211, 211, 211, 0.123);\n color: #303030;\n border-radius: 2px;\n font-style: normal;\n font-weight: normal;\n}\n\n\n/* .CodeMirror-gutters {\n border: none;\n border-right: 1px solid #e0e1e3 !important;\n background-color: #e0e1e3 !important;\n background: #e0e1e3 !important;\n border-radius: 0px;\n white-space: nowrap;\n} */\n\n\n\n/* Code syntax highlithig theme */\n.cm-s-ipython .CodeMirror-cursor {\n border-left: 2px solid #ff711a !important;\n}\n.cm-s-ipython span.cm-comment {\n color: #8d8d8d;\n font-style: italic;                                                   \n}\n.cm-s-ipython span.cm-atom {\n color: #055be0;\n}\n.cm-s-ipython span.cm-number {\n color: #ff8132;\n}\n.cm-s-ipython span.cm-property {\n color: #303030;\n}\n.cm-s-ipython span.cm-attribute {\n color: #303030;\n}\n.cm-s-ipython span.cm-keyword {\n color: #a045ddf3;\n font-weight: normal;\n}\n.cm-s-ipython span.cm-string {\n color: #009e07;\n}\n.cm-s-ipython span.cm-meta {\n color: #aa22ff;\n}\n.cm-s-ipython span.cm-operator {\n color: #055be0;\n}\n.cm-s-ipython span.cm-builtin {\n color: #3f2ce7;\n}\n.cm-s-ipython span.cm-variable {\n color: #303030;\n}\n.cm-s-ipython span.cm-variable-2 {\n color: #de143d;\n}\n.cm-s-ipython span.cm-variable-3 {\n color: #aa22ff;\n}\n.cm-s-ipython span.cm-def {\n color: #e22978;\n font-weight: normal;\n}\n.cm-s-ipython span.cm-error {\n background: rgba(191,11,55,.70);\n}\n.cm-s-ipython span.cm-tag {\n color: #e22978;\n}\n.cm-s-ipython span.cm-link {\n color: #ef5c00;\n}\n.cm-s-ipython span.cm-storage {\n color: #055be0;\n}\n.cm-s-ipython span.cm-entity {\n color: #e22978;\n}\n.cm-s-ipython span.cm-quote {\n color: #009e07;\n}\n</style>"
          },
          "metadata": {}
        }
      ],
      "execution_count": 1,
      "metadata": {
        "gather": {
          "logged": 1757037641402
        }
      }
    }
  ],
  "metadata": {
    "hide_input": false,
    "kernelspec": {
      "name": "python3",
      "language": "python",
      "display_name": "Python 3 (ipykernel)"
    },
    "language_info": {
      "name": "python",
      "version": "3.10.18",
      "mimetype": "text/x-python",
      "codemirror_mode": {
        "name": "ipython",
        "version": 3
      },
      "pygments_lexer": "ipython3",
      "nbconvert_exporter": "python",
      "file_extension": ".py"
    },
    "latex_envs": {
      "report_style_numbering": false,
      "hotkeys": {
        "equation": "Ctrl-E",
        "itemize": "Ctrl-I"
      },
      "LaTeX_envs_menu_present": true,
      "autocomplete": true,
      "autoclose": false,
      "eqNumInitial": 1,
      "bibliofile": "biblio.bib",
      "latex_user_defs": false,
      "current_citInitial": 1,
      "eqLabelWithNumbers": true,
      "labels_anchors": false,
      "cite_by": "apalike",
      "user_envs_cfg": false
    },
    "toc": {
      "toc_position": {
        "height": "calc(100% - 180px)",
        "left": "10px",
        "top": "150px",
        "width": "165px"
      },
      "skip_h1_title": false,
      "number_sections": false,
      "title_cell": "Table of Contents",
      "toc_window_display": true,
      "base_numbering": 1,
      "toc_section_display": true,
      "title_sidebar": "Table of Contents",
      "toc_cell": false,
      "nav_menu": {},
      "sideBar": true
    },
    "microsoft": {
      "ms_spell_check": {
        "ms_spell_check_language": "en"
      },
      "host": {
        "AzureML": {
          "notebookHasBeenCompleted": true
        }
      }
    },
    "kernel_info": {
      "name": "python3"
    },
    "nteract": {
      "version": "nteract-front-end@1.0.0"
    }
  },
  "nbformat": 4,
  "nbformat_minor": 2
}