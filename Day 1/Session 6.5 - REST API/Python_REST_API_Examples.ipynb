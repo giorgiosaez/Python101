{
 "cells": [
  {
   "cell_type": "markdown",
   "id": "d897d73e",
   "metadata": {},
   "source": [
    "\n",
    "# Python REST API Examples\n",
    "\n",
    "This notebook demonstrates how to make REST API calls using Python's `requests` library.\n",
    "\n",
    "## What is a REST API?\n",
    "\n",
    "REST (Representational State Transfer) is an architectural style for designing networked applications. REST APIs allow communication between client and server using HTTP methods like GET, POST, PUT, DELETE.\n",
    "\n",
    "## Why Use REST APIs?\n",
    "\n",
    "- Access data from web services\n",
    "- Integrate with cloud platforms (e.g., Microsoft Azure)\n",
    "- Automate tasks and workflows\n"
   ]
  },
  {
   "cell_type": "code",
   "execution_count": null,
   "id": "211d774a",
   "metadata": {},
   "outputs": [],
   "source": [
    "\n",
    "# Import the requests library\n",
    "import requests\n"
   ]
  },
  {
   "cell_type": "markdown",
   "id": "c62db7e0",
   "metadata": {},
   "source": [
    "## Example 1: Basic GET Request"
   ]
  },
  {
   "cell_type": "code",
   "execution_count": null,
   "id": "896f3d9e",
   "metadata": {},
   "outputs": [],
   "source": [
    "\n",
    "# Make a GET request to a public API\n",
    "response = requests.get(\"https://jsonplaceholder.typicode.com/posts/1\")\n",
    "\n",
    "# Print the response JSON\n",
    "print(response.json())\n"
   ]
  },
  {
   "cell_type": "markdown",
   "id": "a78f2df8",
   "metadata": {},
   "source": [
    "## Example 2: GET Request with Query Parameters"
   ]
  },
  {
   "cell_type": "code",
   "execution_count": null,
   "id": "b92c3b6d",
   "metadata": {},
   "outputs": [],
   "source": [
    "\n",
    "# Define query parameters\n",
    "params = {\n",
    "    \"userId\": 1\n",
    "}\n",
    "\n",
    "# Make the GET request with parameters\n",
    "response = requests.get(\"https://jsonplaceholder.typicode.com/posts\", params=params)\n",
    "\n",
    "# Print the response JSON\n",
    "print(response.json())\n"
   ]
  },
  {
   "cell_type": "markdown",
   "id": "ab2d96a7",
   "metadata": {},
   "source": [
    "## Example 3: POST Request with JSON Payload"
   ]
  },
  {
   "cell_type": "code",
   "execution_count": null,
   "id": "dcdf366c",
   "metadata": {},
   "outputs": [],
   "source": [
    "\n",
    "# Define the payload\n",
    "payload = {\n",
    "    \"title\": \"foo\",\n",
    "    \"body\": \"bar\",\n",
    "    \"userId\": 1\n",
    "}\n",
    "\n",
    "# Make the POST request\n",
    "response = requests.post(\"https://jsonplaceholder.typicode.com/posts\", json=payload)\n",
    "\n",
    "# Print the response JSON\n",
    "print(response.json())\n"
   ]
  },
  {
   "cell_type": "markdown",
   "id": "f3b14a3f",
   "metadata": {},
   "source": [
    "## Example 4: Adding Headers (e.g., Authentication)"
   ]
  },
  {
   "cell_type": "code",
   "execution_count": null,
   "id": "efa35648",
   "metadata": {},
   "outputs": [],
   "source": [
    "\n",
    "# Define headers (e.g., with a placeholder token)\n",
    "headers = {\n",
    "    \"Authorization\": \"Bearer YOUR_ACCESS_TOKEN\",\n",
    "    \"Content-Type\": \"application/json\"\n",
    "}\n",
    "\n",
    "# Make a GET request with headers\n",
    "response = requests.get(\"https://jsonplaceholder.typicode.com/posts/1\", headers=headers)\n",
    "\n",
    "# Print the response status code\n",
    "print(\"Status Code:\", response.status_code)\n"
   ]
  },
  {
   "cell_type": "markdown",
   "id": "99c5bab9",
   "metadata": {},
   "source": [
    "## Example 5: Error Handling with try-except"
   ]
  },
  {
   "cell_type": "code",
   "execution_count": null,
   "id": "922e5354",
   "metadata": {},
   "outputs": [],
   "source": [
    "\n",
    "try:\n",
    "    response = requests.get(\"https://jsonplaceholder.typicode.com/posts/invalid\")\n",
    "    response.raise_for_status()  # Raise an error for bad status\n",
    "    print(response.json())\n",
    "except requests.exceptions.HTTPError as err:\n",
    "    print(\"HTTP error occurred:\", err)\n",
    "except Exception as e:\n",
    "    print(\"Other error occurred:\", e)\n"
   ]
  },
  {
   "cell_type": "markdown",
   "id": "5d667cc6",
   "metadata": {},
   "source": [
    "## Final Exercise"
   ]
  },
  {
   "cell_type": "code",
   "execution_count": null,
   "id": "dab1df22",
   "metadata": {},
   "outputs": [],
   "source": [
    "\n",
    "# TODO: Make a GET request to https://jsonplaceholder.typicode.com/users\n",
    "# Print the name and email of each user\n",
    "\n",
    "# Your code here\n"
   ]
  }
 ],
 "metadata": {},
 "nbformat": 4,
 "nbformat_minor": 5
}
