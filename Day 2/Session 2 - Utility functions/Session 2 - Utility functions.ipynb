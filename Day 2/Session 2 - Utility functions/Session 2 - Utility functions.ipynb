{
  "cells": [
    {
      "cell_type": "markdown",
      "source": [
        "# 2. Utility functions and plotting\n",
        "\n",
        "This is the first session concerning Python code for the Python 201 course. Thus, the focus will be on brushing up and only introducing a few new smaller topics. \n",
        "\n",
        "The primary focus will be on writing well-structured functions and keeping code modular."
      ],
      "metadata": {}
    },
    {
      "cell_type": "markdown",
      "source": [
        "## Static & Dynamic Code Analysis\n",
        "\n",
        "Static code analysis means analysing the code without executing it. \n",
        "The opposite naturally being dynamic code analysis where the analysis is performed by executing the code on a real or virtual processor.\n",
        "\n",
        "These types of analysis have a lot of use cases but can e.g. provide:\n",
        "\n",
        "* find common security issues in the code (such as SQL injection vulnerabilities)\n",
        "* code linting against various standards/guidelines and/or style conventions\n",
        "* automatic code formating\n",
        "* autocompletion\n",
        "* measuring class cohesion\n",
        "* spell checking\n",
        "* measure code (cyclomatic) complexity\n",
        "* type checking\n",
        "* find unused classes, functions and variables \n",
        "* graphing imports/dependencies\n",
        "* run/execution timers\n",
        "* find program errors\n",
        "* find memory leaks,\n",
        "* find race conditions\n",
        "\n",
        "In the following are the most important use cases you should know summarised.\n",
        "\n",
        "#### Autocompletion\n",
        "\n",
        "Autocompletion is a tool constantly trying to predict the rest of what the user is typing. This is a must have and are  activated by default in most editors.\n",
        "For Python *Jedi* is one of the best. It's been heavily tested and seem to have a deeper understanding of Python than its competitors.\n",
        "The new kid on the block is *Kite* which uses Deep Learning to do multi-line predicts etc.\n",
        "\n",
        "#### Linting\n",
        "\n",
        "Code linters check that the formating of the code is inline with a selected style. This is a very useful tool that helps the user write more clear and readable code. Especially new users can benefit a lot from this.\n",
        "\n",
        "We recommend using *Pycodestyle* (former *PEP8*) that highlights deviations from the well-known PEP8 Style Guide https://www.python.org/dev/peps/pep-0008/.\n",
        "\n",
        "#### Type Checking\n",
        "\n",
        "Python is a dynamically typed language with all the pros and cons that comes with. However, it is still possible to achive some of the benefints of statically typed language by using type hinting (specify types without impacting runtime) and then use static analysis to detect type errors/inconsistencies. Note that this is primarily relevant for larger Python projects.\n",
        "\n",
        "Type hinting:\n",
        "```python\n",
        "age: int = 1  # This is how you declare the type of a variable type\n",
        "\n",
        "child: bool  # You don't need to initialize a variable to annotate it\n",
        "    \n",
        "if age < 18:\n",
        "    child = True\n",
        "else:\n",
        "    child = False\n",
        "\n",
        "# Built-in types\n",
        "from typing import List, Set, Dict, Tuple, Optional\n",
        "\n",
        "# This is how you annotate a function definition\n",
        "def f(x: int, s: Sequence[int]) -> List[int]:\n",
        "\t...\n",
        "```\n",
        "\n",
        "#### Unit testing\n",
        "\n",
        "Unit testing means that you predefine a series of code inputs for which you know what the outcome should be. By dynamic code analysis thess tests can be setup to automatically run on every single code commit immidiately informing the user if any of the tests fails.\n",
        "Unit testing and test converage gets relevant when you have a project many people rely on and you need to ensure correct behaviour during futher development.\n",
        "We recomment using *pytest*\n"
      ],
      "metadata": {}
    },
    {
      "cell_type": "markdown",
      "source": [
        "## Code in multiple files\n",
        "\n",
        "Once a program grows to more than a few hundred lines it might make sense to separate code into multiple files. This can help to maintain a better overview of the structure of the program by storing connected pieces of logic together.\n",
        "\n",
        "Before moving on let's distinguish between two types of Python files:\n",
        "\n",
        "- A **module** is a `.py` file that gets imported into another file so the code can be used there\n",
        "\n",
        "- A **script** is a `.py` file that is meant to be run directly  \n",
        "\n",
        "A quick recap of how **modules** imports work in Python, here shown for the math library:\n",
        "\n",
        "---\n",
        "\n",
        "```python\n",
        "# Lets you access everything in the math library by dot-notation (e.g math.pi) \n",
        "import math\n",
        "\n",
        "# Lets you use pi directly\n",
        "from math import pi    \n",
        "\n",
        "# Lets you use everything in the math library directly\n",
        "from math import *     \n",
        "```\n",
        "---\n",
        "\n",
        "The last one is not considered good practice, since variables will be untraceable. It can be good for making quick tests though.\n",
        "\n",
        "This same principle works for file specific modules as well. So if we create `my_module.py`.\n",
        "\n",
        "---\n",
        "```python\n",
        "# my_module could be your own python file\n",
        "import my_module      \n",
        "```\n",
        "---\n",
        "\n",
        "If `my_module` contains a function called `my_func`, you can after the import call it as `my_module.my_func()`.\n",
        "\n",
        "Similar to the math module example, we could do\n",
        "\n",
        "---\n",
        "```python\n",
        "# Lets you use my_func directly \n",
        "from my_module import my_func\n",
        "```\n",
        "---\n"
      ],
      "metadata": {}
    },
    {
      "cell_type": "markdown",
      "source": [
        "\n",
        "### Understanding the `import` search\n",
        "\n",
        "When the Python interpreter sees a statement like `import module_name`, Python will search for a file called `module_name.py`. \n",
        "\n",
        "It searches in certain directories among which are the **current working directory** and the **directory where you installed Python** *(if it is added to your path)*. \n",
        "\n",
        "It's easy to see the directories within which Python searches. Just add the following lines to your code:\n",
        "\n",
        "---\n",
        "```python\n",
        "# Import module that has information about the Python interpreter\n",
        "import sys \n",
        "\n",
        "# Print a list of directories where interpreter searches\n",
        "print(sys.path)\n",
        "```\n",
        "---\n",
        "\n",
        "You can control which directories Python should search. This is as simple as adding a directory path to the list like `sys.path.append(directory_path)`.\n",
        "\n",
        "It should be noted that the search is sequential, so if you want to have a new directory searched first you could do `sys.path.insert(0, directory_path)` which would insert `directory_path` as the first element to be searched. \n",
        "\n",
        "This can for example be used to make sure that the top level (root) of a project directory is always searched.  \n"
      ],
      "metadata": {}
    },
    {
      "cell_type": "markdown",
      "source": [
        "### Importing executes the file\n",
        "\n",
        "It is important to stress that **when importing a file, the actual code inside the file is run.** \n",
        "\n",
        "Suppose you have a module `moduleA`\n",
        "\n",
        "---\n",
        "```python\n",
        "# moduleA.py \n",
        "print(2+2)\n",
        "```\n",
        "---\n",
        "\n",
        "and a module `moduleB` \n",
        "\n",
        "---\n",
        "```python\n",
        "# moduleB.py\n",
        "import moduleA\n",
        "\n",
        "```\n",
        "---\n",
        "\n",
        "If you open `moduleB` in your editor and run the code it will output `4`. This is because importing `moduleA` literally runs the code that resides inside `moduleA`. \n",
        "\n",
        "Try to recreate this small example to see it in action."
      ],
      "metadata": {}
    },
    {
      "cell_type": "markdown",
      "source": [
        "\n",
        "### Simple use case with multiple files\n",
        "\n",
        "One example of this could be\n",
        "\n",
        "- One module called `utils.py` containing all *utility* functions that the program uses. This could e.g. be code for reading in, cleaning or manipulating data.\n",
        "\n",
        "- A module `plotting.py` containing all code responsible for plotting of results. \n",
        "\n",
        "- A script file `main.py` that imports the modules and is used to run the code. \n",
        "\n",
        "---\n",
        "```python\n",
        "# main.py\n",
        "\n",
        "import utils\n",
        "import plotting\n",
        "\n",
        "# Create some example data as lists\n",
        "x = [i for i in range(100)]\n",
        "y = [i*i for i in x]\n",
        "\n",
        "# Modify the data by means of a function inside utils.py\n",
        "x_modified, y_modified = utils.func_inside_utils(x, y)\n",
        "\n",
        "# Plot the modified lists by means of function inside plotting \n",
        "plotting.func_inside_plotting(x_modified, y_modified)\n",
        "```\n",
        "---\n",
        "\n",
        "This approach has some advantages as it\n",
        "\n",
        "- creates modularity by grouping related code inside modules and functions\n",
        "\n",
        "- makes the code more readable, reusable and maintainable\n",
        "\n",
        "- encourages the creator to make the code in `utils` and `plotting` more project independent\n",
        "\n",
        "- makes the actual *working file* (`main.py`) more clean since most of the complicated logic sits inside separate modules\n",
        "\n",
        "A more [here](https://chrisyeh96.github.io/2017/08/08/definitive-guide-python-imports.html) for a good resource on Python import statements.\n"
      ],
      "metadata": {}
    },
    {
      "cell_type": "markdown",
      "source": [
        "## Running a module as a script\n",
        "\n",
        "Even though a **module** is meant to be imported into another file, it's possible to make it runnable as a script. The way to do this is to add the following line, typically at the end of the module level code:\n",
        "\n",
        "---\n",
        "```python\n",
        "if __name__ == '__main__':\n",
        "    # Code here will only be run if this exact .py file is run directly\n",
        "    # It will not run if it is imported\n",
        "```\n",
        "---\n",
        "\n",
        "This can be used in various ways, for example for setting up simple runnable test examples in each module. \n"
      ],
      "metadata": {}
    },
    {
      "cell_type": "markdown",
      "source": [
        "## Functions with variable number of parameter\n",
        "\n",
        "\n",
        "### Dynamic arguments `*args`\n",
        "\n",
        "Python has a built-in feature that enables use of a unlimited number of function parameters."
      ],
      "metadata": {}
    },
    {
      "cell_type": "code",
      "source": [
        "def func(*args):\n",
        "    ''' Print the arguments that were inputted to the function.'''\n",
        "    print(args)\n",
        "    \n",
        "\n",
        "# Call the function with various number of arguments\n",
        "func()\n",
        "func(2)\n",
        "func(2, 4)\n",
        "func(2, 4, 8)"
      ],
      "outputs": [
        {
          "output_type": "stream",
          "name": "stdout",
          "text": "()\n(2,)\n(2, 4)\n(2, 4, 8)\n"
        }
      ],
      "execution_count": 1,
      "metadata": {
        "gather": {
          "logged": 1757629749508
        }
      }
    },
    {
      "cell_type": "markdown",
      "source": [
        "Recall that **a standard function with a fixed number of arguments will raise an error** is it does not receive the exact number of arguments that it expects. \n",
        "\n",
        "Note that default arguments can be omitted when calling standard functions though."
      ],
      "metadata": {}
    },
    {
      "cell_type": "code",
      "source": [
        "def standard_func(string):\n",
        "    ''' Print the string that was inputted '''\n",
        "    print(string)\n",
        "    \n",
        "    \n",
        "# Run the standard function with a single argument (as it expects)\n",
        "standard_func('Hi')"
      ],
      "outputs": [
        {
          "output_type": "stream",
          "name": "stdout",
          "text": "Hi\n"
        }
      ],
      "execution_count": 2,
      "metadata": {
        "gather": {
          "logged": 1757629749654
        }
      }
    },
    {
      "cell_type": "code",
      "source": [
        "# Run the function with two arguments when it expects only a single argument\n",
        "standard_func('Hi', 'Ho')"
      ],
      "outputs": [
        {
          "output_type": "error",
          "ename": "TypeError",
          "evalue": "standard_func() takes 1 positional argument but 2 were given",
          "traceback": [
            "\u001b[0;31m---------------------------------------------------------------------------\u001b[0m",
            "\u001b[0;31mTypeError\u001b[0m                                 Traceback (most recent call last)",
            "Cell \u001b[0;32mIn[3], line 2\u001b[0m\n\u001b[1;32m      1\u001b[0m \u001b[38;5;66;03m# Run the function with two arguments when it expects only a single argument\u001b[39;00m\n\u001b[0;32m----> 2\u001b[0m \u001b[43mstandard_func\u001b[49m\u001b[43m(\u001b[49m\u001b[38;5;124;43m'\u001b[39;49m\u001b[38;5;124;43mHi\u001b[39;49m\u001b[38;5;124;43m'\u001b[39;49m\u001b[43m,\u001b[49m\u001b[43m \u001b[49m\u001b[38;5;124;43m'\u001b[39;49m\u001b[38;5;124;43mHo\u001b[39;49m\u001b[38;5;124;43m'\u001b[39;49m\u001b[43m)\u001b[49m\n",
            "\u001b[0;31mTypeError\u001b[0m: standard_func() takes 1 positional argument but 2 were given"
          ]
        }
      ],
      "execution_count": 3,
      "metadata": {
        "gather": {
          "logged": 1757629749836
        }
      }
    },
    {
      "cell_type": "markdown",
      "source": [
        "As seen, this raises an error.\n",
        "\n",
        "The naming `*args` is not forced, but just the standard convention when talking about this behavior. You could call it whatever you want as long as there is an `*` in front. \n",
        "\n",
        "In the example below the name `numbers` is used in place of `args`."
      ],
      "metadata": {}
    },
    {
      "cell_type": "code",
      "source": [
        "def sum_numbers(*numbers):\n",
        "    ''' Return the sum of all given arguments '''\n",
        "    return sum([*numbers])\n",
        "\n",
        "\n",
        "# Call function with different number of arguments\n",
        "print(sum_numbers(2))\n",
        "print(sum_numbers(2, 7))\n",
        "print(sum_numbers(2, 7, 5, 1))"
      ],
      "outputs": [
        {
          "output_type": "stream",
          "name": "stdout",
          "text": "2\n9\n15\n"
        }
      ],
      "execution_count": 6,
      "metadata": {
        "gather": {
          "logged": 1757633569247
        }
      }
    },
    {
      "cell_type": "markdown",
      "source": [
        "**If you already have a list of values** from any previous code, you can unpack the list while calling the function by using an `*`. "
      ],
      "metadata": {}
    },
    {
      "cell_type": "code",
      "source": [
        "# Define a list of values\n",
        "a = [2, 7, 5, 1]\n",
        "\n",
        "# Call function and unpack at the same time\n",
        "sum_numbers(*a)"
      ],
      "outputs": [
        {
          "output_type": "execute_result",
          "execution_count": 7,
          "data": {
            "text/plain": "15"
          },
          "metadata": {}
        }
      ],
      "execution_count": 7,
      "metadata": {
        "gather": {
          "logged": 1757633569439
        }
      }
    },
    {
      "cell_type": "markdown",
      "source": [
        "The `*args` feature can be useful for creating flexibility in a function, allowing the caller more options and freedom.\n",
        "\n",
        "An good example of an `*args` implementation is the built-in `zip`, which takes in a dynamic amount of iterables and generates values for looping over them simultaneously. In the Python documentation this is written as `zip(*iterables)`, see [here](https://docs.python.org/3/library/functions.html#zip).\n",
        "\n",
        "See how `zip` can be used with a varying number of arguments in the demo below."
      ],
      "metadata": {}
    },
    {
      "cell_type": "code",
      "source": [
        "# Using zip with two arguments\n",
        "for n, s in zip([1, 2], ['Hi', 'Ho']):\n",
        "    print(n, s)"
      ],
      "outputs": [
        {
          "output_type": "stream",
          "name": "stdout",
          "text": "1 Hi\n2 Ho\n"
        }
      ],
      "execution_count": 8,
      "metadata": {
        "gather": {
          "logged": 1757633569610
        }
      }
    },
    {
      "cell_type": "code",
      "source": [
        "# Using zip with three arguments\n",
        "for n, s1, s2  in zip([1, 2], ['Hi', 'Ho'], ['Yi', 'Ha']):\n",
        "    print(n, s1, s2)"
      ],
      "outputs": [
        {
          "output_type": "stream",
          "name": "stdout",
          "text": "1 Hi Yi\n2 Ho Ha\n"
        }
      ],
      "execution_count": 9,
      "metadata": {
        "gather": {
          "logged": 1757633569764
        }
      }
    },
    {
      "cell_type": "markdown",
      "source": [
        "### Dynamic keyword arguments `**kwargs`\n",
        "\n",
        "The functionality for `*args` can be used with so-called ***keyword arguments***. It works very much the same way as `*args`, except there is a keyword assigned to each argument value. \n",
        "\n",
        "The syntax is with double asterisk `**kwargs` and it works as demonstrated below."
      ],
      "metadata": {}
    },
    {
      "cell_type": "code",
      "source": [
        "def kw_func(**kwargs):\n",
        "    ''' Print the keyword arguments that were inputted to the function. '''\n",
        "    print(kwargs)\n",
        "    \n",
        "    \n",
        "# Call the function with various numbers of keyword arguments\n",
        "kw_func(p=1, q=2)\n",
        "kw_func(bla=327, blo=('hi', 'ho'))"
      ],
      "outputs": [
        {
          "output_type": "stream",
          "name": "stdout",
          "text": "{'p': 1, 'q': 2}\n{'bla': 327, 'blo': ('hi', 'ho')}\n"
        }
      ],
      "execution_count": 10,
      "metadata": {
        "gather": {
          "logged": 1757633569980
        }
      }
    },
    {
      "cell_type": "markdown",
      "source": [
        "One might say that `*args` refer to lists and `**kwargs` refer to dictionaries.\n",
        "\n",
        "Also here the naming `kwargs` is just a standard convention name, short for **keyword arguments**. You can call it whatever you want. As long as there are `**` in front it will create this behavior.\n",
        "\n",
        "It might not be very often that `*args` or `**kwargs` are needed for your own functions, but they do have their place and they are used in many functions and methods in third-party libraries. "
      ],
      "metadata": {}
    },
    {
      "cell_type": "markdown",
      "source": [
        "## Some NumPy and SciPy functions\n",
        "\n",
        "NumPy and SciPy has a great amount of useful functions to do all sorts of operations. Only a few were mentioned in the Python 101 course. \n",
        "\n",
        "The brief description below gives an overview of some functions that might be useful for solving the exercises.\n"
      ],
      "metadata": {}
    },
    {
      "cell_type": "markdown",
      "source": [
        "### `np.arange`\n",
        "\n",
        "`np.arange` is sort of like Python's standard `range(start, stop [, step])`. However, the standard Python version only allows for use of integer values, whereas the NumPy version is more flexible. See a small demonstration below. "
      ],
      "metadata": {}
    },
    {
      "cell_type": "code",
      "source": [
        "import numpy as np\n",
        "\n",
        "# Create and array from -2 to 2 with step 0.5\n",
        "a = np.arange(-2, 2, 0.5)\n",
        "a"
      ],
      "outputs": [
        {
          "output_type": "execute_result",
          "execution_count": 11,
          "data": {
            "text/plain": "array([-2. , -1.5, -1. , -0.5,  0. ,  0.5,  1. ,  1.5])"
          },
          "metadata": {}
        }
      ],
      "execution_count": 11,
      "metadata": {
        "gather": {
          "logged": 1757633570384
        }
      }
    },
    {
      "cell_type": "markdown",
      "source": [
        "Notice the that start point in included, but not the endpoint.\n",
        "\n",
        "A related NumPy function is `np.linspace` which was used in the previous course. It lets the user specify the number of elements for the resulting array rather than the step, as for `np.arange`. \n",
        "\n",
        "Docs for [np.arange](https://docs.scipy.org/doc/numpy/reference/generated/numpy.arange.html)\n",
        "\n",
        "Docs for [np.linspace](https://docs.scipy.org/doc/numpy/reference/generated/numpy.linspace.html)"
      ],
      "metadata": {}
    },
    {
      "cell_type": "markdown",
      "source": [
        "### Creation of boolean arrays (aka masks)\n",
        "\n",
        "A boolean array, also called a **mask array**, can be created by simply stating a condition on an existing array."
      ],
      "metadata": {}
    },
    {
      "cell_type": "code",
      "source": [
        "# Using the `a` array defined above\n",
        "\n",
        "# Create a mask array for a with a condition\n",
        "a < 0.2"
      ],
      "outputs": [
        {
          "output_type": "execute_result",
          "execution_count": 12,
          "data": {
            "text/plain": "array([ True,  True,  True,  True,  True, False, False, False])"
          },
          "metadata": {}
        }
      ],
      "execution_count": 12,
      "metadata": {
        "gather": {
          "logged": 1757633570639
        }
      }
    },
    {
      "cell_type": "markdown",
      "source": [
        "Multiple conditions are also allowed with a simple syntax. "
      ],
      "metadata": {}
    },
    {
      "cell_type": "code",
      "source": [
        "# Create a mask array for a with multiple conditions\n",
        "(a > -1.4) & (a < 1.4)"
      ],
      "outputs": [
        {
          "output_type": "execute_result",
          "execution_count": 13,
          "data": {
            "text/plain": "array([False, False,  True,  True,  True,  True,  True, False])"
          },
          "metadata": {}
        }
      ],
      "execution_count": 13,
      "metadata": {
        "gather": {
          "logged": 1757633571294
        }
      }
    },
    {
      "cell_type": "markdown",
      "source": [
        "### `np.where`\n",
        "\n",
        "This function returns the indices where a boolean array has elements `True`."
      ],
      "metadata": {}
    },
    {
      "cell_type": "code",
      "source": [
        "# Extract indices where elements in a are less than 2 \n",
        "np.where(a < 0.2)"
      ],
      "outputs": [
        {
          "output_type": "execute_result",
          "execution_count": 14,
          "data": {
            "text/plain": "(array([0, 1, 2, 3, 4]),)"
          },
          "metadata": {}
        }
      ],
      "execution_count": 14,
      "metadata": {
        "gather": {
          "logged": 1757633571591
        }
      }
    },
    {
      "cell_type": "code",
      "source": [
        "# Repeating from above\n",
        "a_bool = (a > -1.4) & (a < 1.4)\n",
        "\n",
        "# Get indices where the multiple conditions are True\n",
        "np.where(a_bool)"
      ],
      "outputs": [
        {
          "output_type": "execute_result",
          "execution_count": 15,
          "data": {
            "text/plain": "(array([2, 3, 4, 5, 6]),)"
          },
          "metadata": {}
        }
      ],
      "execution_count": 15,
      "metadata": {
        "gather": {
          "logged": 1757633571783
        }
      }
    },
    {
      "cell_type": "markdown",
      "source": [
        "Notice that the returned value is a tuple. If you want the first element, which is an array, extract it by indexing.\n",
        "\n",
        "Docs for [np.where](https://docs.scipy.org/doc/numpy/reference/generated/numpy.where.html)\n",
        "\n",
        "[Another explanation](https://thispointer.com/numpy-where-tutorial-examples-python/) (arguably better)"
      ],
      "metadata": {}
    },
    {
      "cell_type": "markdown",
      "source": [
        "### `np.append`\n",
        "\n",
        "Appending of an array to another array is demonstrated below. "
      ],
      "metadata": {}
    },
    {
      "cell_type": "code",
      "source": [
        "# Create two arrays\n",
        "e = np.array([1, 2, 3])\n",
        "f = np.array([11, 12])\n",
        "\n",
        "# Combine them by appending one to the other\n",
        "np.append(e, f)"
      ],
      "outputs": [
        {
          "output_type": "execute_result",
          "execution_count": 16,
          "data": {
            "text/plain": "array([ 1,  2,  3, 11, 12])"
          },
          "metadata": {}
        }
      ],
      "execution_count": 16,
      "metadata": {
        "gather": {
          "logged": 1757633572324
        }
      }
    },
    {
      "cell_type": "markdown",
      "source": [
        "Doc for [np.append](https://docs.scipy.org/doc/numpy/reference/generated/numpy.append.html)."
      ],
      "metadata": {}
    },
    {
      "cell_type": "markdown",
      "source": [
        "### NumPy fancy indexing\n",
        "\n",
        "NumPy arrays can be indexed by other arrays. This is an extremely useful feature. See the demonstration below."
      ],
      "metadata": {}
    },
    {
      "cell_type": "code",
      "source": [
        "# Given an array (`a` from before)\n",
        "a"
      ],
      "outputs": [
        {
          "output_type": "execute_result",
          "execution_count": 17,
          "data": {
            "text/plain": "array([-2. , -1.5, -1. , -0.5,  0. ,  0.5,  1. ,  1.5])"
          },
          "metadata": {}
        }
      ],
      "execution_count": 17,
      "metadata": {
        "gather": {
          "logged": 1757633572582
        }
      }
    },
    {
      "cell_type": "code",
      "source": [
        "# And another array representing indices\n",
        "b = np.array([3, 4])\n",
        "b"
      ],
      "outputs": [
        {
          "output_type": "execute_result",
          "execution_count": 18,
          "data": {
            "text/plain": "array([3, 4])"
          },
          "metadata": {}
        }
      ],
      "execution_count": 18,
      "metadata": {
        "gather": {
          "logged": 1757633572826
        }
      }
    },
    {
      "cell_type": "code",
      "source": [
        "# a can be indexed by b as\n",
        "a[b]"
      ],
      "outputs": [
        {
          "output_type": "execute_result",
          "execution_count": 19,
          "data": {
            "text/plain": "array([-0.5,  0. ])"
          },
          "metadata": {}
        }
      ],
      "execution_count": 19,
      "metadata": {
        "gather": {
          "logged": 1757633573084
        }
      }
    },
    {
      "cell_type": "markdown",
      "source": [
        "This concept can be extended to more complicated use cases.\n",
        "\n",
        "NumPy/SciPy [explanation for fancy indexing](https://scipy-lectures.org/intro/numpy/array_object.html#fancy-indexing)"
      ],
      "metadata": {}
    },
    {
      "cell_type": "markdown",
      "source": [
        "### SciPy `find_peaks`\n",
        "\n",
        "The SciPy library has many useful functions for scientific computing. One of them is `find_peaks` which is found in the `signal` module (`scipy.signal`). This means that it can be imported as `from scipy.signal import find_peaks`.\n",
        "\n",
        "**Given an array of values it finds all the peaks** by comparing to the value in the two neighboring points. Note that it does not find the valleys!\n",
        "\n",
        "It has some useful optional parameters, e.g. setting a minimum height below which no peaks are returned.\n",
        "\n",
        "The function returns a tuple with two values. The first is the array indices where peaks were found, the next is a property dictionary with some information about the analysis results. \n",
        "\n",
        "Saving a function return to variables can be done by unpacking. If a tuple with two elements are returned, one can save the returned values like this:\n",
        "\n",
        "---\n",
        "```python\n",
        "# Save variables from a function that returns two variables\n",
        "a, b = function_call()\n",
        "\n",
        "# Or if only the first variables is need in the code\n",
        "a, _ = function_call()\n",
        "```\n",
        "---\n",
        "\n",
        "Docs for [find_peaks](https://docs.scipy.org/doc/scipy/reference/generated/scipy.signal.find_peaks.html)\n"
      ],
      "metadata": {}
    },
    {
      "cell_type": "markdown",
      "source": [
        "# Exercises\n",
        "\n",
        "From solving the exercises in Session 0 you should have a local Git repository with a `README.md` and a `.gitignore`. We encourage to use this repository while working with the exercises in this course to get familiarity with the Git workflow. \n",
        "\n",
        "In Session 1 you linked the local repo to a remote one on your GitHub account. You can `push` when you want to sync your local work to the remote.\n",
        "\n",
        "The exercises in this session focus on:\n",
        " \n",
        "- Git for version control\n",
        "- `numpy` and `scipy`\n",
        "- usage of `**kwargs` as a function parameter (and `**args` if you do the bonus exercises)\n",
        "- code spread across in multiple files\n",
        "\n",
        "*In case you do not yet have a local Git repository set up for this course, you can do the exercises from Session 0 before doing these. If you just want to get going with these exercises, you can run `git init` inside the directory where you want to store your code and start.*"
      ],
      "metadata": {}
    },
    {
      "cell_type": "markdown",
      "source": [
        "# Exercises 1\n",
        "\n",
        "1. **Create a branch**\n",
        "\n",
        "   As you're about do a larger chunk of work with a specific topic in mind, create a branch with a descriptive name (e.g. `session2`) and check it out. \n",
        "\n",
        "   Recall that `git branch <branch_name>` creates a branch and `git checkout <branch_name>` checks it out. This can be done in one operation as `git checkout -b <branc_name>`.\n",
        "\n",
        "\n",
        "2. **Create a folder and a module**\n",
        "    \n",
        "   Create a folder for Session 2 and a module called `utils.py` inside it. \n",
        "   \n",
        "   The `utils.py` module will store all the utility functions that can be called upon to do a lot of ground work. "
      ],
      "metadata": {}
    },
    {
      "cell_type": "markdown",
      "source": [
        "# Exercise 2\n",
        "\n",
        "Inside `utils.py` write the function called `extract_interval` which has its skeleton presented below. Read the docstring for details. \n",
        "\n",
        "---\n",
        "```python\n",
        "def extract_interval(x, x_bounds):\n",
        "    '''  \n",
        "    Return the indices of `x` that are within `x_bounds` with both of values \n",
        "    `x_bounds` being inclusive.\n",
        "    \n",
        "    Parameters\n",
        "    ----------\n",
        "    x : 1D numpy array\n",
        "        x-coordinates sorted in ascending order.\n",
        "    x_bounds : tuple\n",
        "        A two-element tuple defining the interval within which to extract x-indices.\n",
        "        \n",
        "    Returns\n",
        "    -------\n",
        "    1D numpy array\n",
        "        Array of indices for `x`-values that reside within `x_bounds`.\n",
        "        \n",
        "    Assumptions\n",
        "    ------------\n",
        "    The function assumes that the input array `x` is sorted in\n",
        "    ascending order.\n",
        "    '''\n",
        "    # Your code here!\n",
        "```\n",
        "---\n",
        "\n",
        "### Some examples to test against:\n",
        "\n",
        "```python\n",
        "# Basic test 1\n",
        "x1 = np.arange(0, 10)\n",
        "idx1 = extract_interval(x=x1, x_bounds=(3, 7))\n",
        "\n",
        "# Basic test 2\n",
        "x2 = np.arange(-0.6, 3.8, 0.4)\n",
        "idx2 = extract_interval(x=x2, x_bounds=(-0.3, 1.5))\n",
        "\n",
        "```\n",
        "---\n",
        "Results should be `idx1 = [3 4 5 6 7]` and `idx2 = [1 2 3 4 5]`.\n",
        "\n",
        "*Place test runs like the above in the bottom of the file in a `if _name__ == '__main__':` block. This way it will not get run if the module is imported from elsewhere.*\n",
        "\n",
        "### Commit your changes\n",
        "\n",
        "Once you're happy with the function you can commit your changes to create a snapshot of you repository state. \n"
      ],
      "metadata": {}
    },
    {
      "cell_type": "markdown",
      "source": [
        "# Exercise 3\n",
        "\n",
        "Write a function called `extrema_indices` inside `utils.py` that takes as input an array of y-coordinates and returns the indices of all local extrema (peaks and valleys). Use the `find_peaks` function from `scipy.signal`. \n",
        "\n",
        "Be sure to write a good docstring for the function. You can use the same structure as in the previous exercise as guideline.\n",
        "\n",
        "*Recall that `find_peaks` only finds the peaks and **not** the valleys, so you have to do a slight workaround to get the valleys.*\n",
        "\n",
        "### Testing the code\n",
        "\n",
        "Test the code by running `yy` from below through the function\n",
        "\n",
        "---\n",
        "```python\n",
        "# A dummy graph to test against\n",
        "xx = np.linspace(1, 20, 40)\n",
        "yy = np.sin(xx) * 3 * np.cos(xx**2)\n",
        "```\n",
        "---\n",
        "\n",
        "It should return this array:\n",
        "\n",
        "```\n",
        "array([ 1.83936866,  2.00743698,  1.76511072,  2.68372999, -0.10032392,\n",
        "        1.99429972,  0.27309389,  2.23407394,  0.12795831,  2.51053515,\n",
        "        0.2974298 , -2.00646398, -0.63018205, -2.36255017, -2.42571128,\n",
        "       -0.65672365, -0.37642334, -2.60571339, -1.05772914, -1.4625172 ,\n",
        "       -0.7508744 , -2.34019749, -1.50602509])\n",
        "```\n",
        "\n",
        "\n",
        "### Commit your changes\n",
        "\n",
        "Create a commit when you have finished the exercise.\n"
      ],
      "metadata": {}
    },
    {
      "cell_type": "markdown",
      "source": [
        "# Exercise 4\n",
        "\n",
        "Write the function described in the docstring below.\n",
        "\n",
        "```python\n",
        "def arrays_todict(x_arr, y_arr):\n",
        "    ''' \n",
        "    Return a dictionary with y-values in string form as keys \n",
        "    and x- and y-values as values. \n",
        "    \n",
        "    Parameters\n",
        "    ----------\n",
        "    x_arr : 1D numpy array\n",
        "        Array of x-values\n",
        "    y_arr : 1D numpy array\n",
        "        Array of y-values\n",
        "        \n",
        "    Returns\n",
        "    -------\n",
        "    dict\n",
        "        Dictionary of the form \n",
        "        {'y1': (x1, y1), 'y2': (x2, y2), ..., 'yn': (xn, yn)}\n",
        "    '''\n",
        "    # Your code here!\n",
        "```\n",
        "---\n",
        "\n",
        "You might want to format the decimals for the keys. See [here](https://nbviewer.jupyter.org/github/Python-Crash-Course/Python101/blob/master/Course%20Notes/Python%20Course%20Notes.ipynb#Printing-and-formatting) for how to do that using f-strings.\n",
        "\n",
        "Create a commit when you have tested and finished the exercise.\n",
        "\n",
        "### Hint\n",
        "\n",
        "*This can be solved by a one-liner with a dictionary comprehension. They work similarly to list comprehensions, but instead of a single value at each element, one must supply a key and a value. See a simple demonstration of a dictionary comprehension below.* \n"
      ],
      "metadata": {}
    },
    {
      "cell_type": "code",
      "source": [
        "# Example of dict comprehension\n",
        "{f'2*{x}': 2*x for x in range(5)}"
      ],
      "outputs": [
        {
          "output_type": "execute_result",
          "execution_count": 20,
          "data": {
            "text/plain": "{'2*0': 0, '2*1': 2, '2*2': 4, '2*3': 6, '2*4': 8}"
          },
          "metadata": {}
        }
      ],
      "execution_count": 20,
      "metadata": {
        "gather": {
          "logged": 1757633573413
        }
      }
    },
    {
      "cell_type": "markdown",
      "source": [
        "The built-in `zip` might also be useful. It enables iterating over two iterables simultaneously.\n",
        "\n",
        "Docs for [zip](https://docs.python.org/3/library/functions.html#zip). \n",
        "\n",
        "*Notice that the Python implementation of `zip` says `zip( *iterables) `. So it uses the ` *args` concept described above.*"
      ],
      "metadata": {}
    },
    {
      "cell_type": "markdown",
      "source": [
        "# Exercise 5\n",
        "\n",
        "Create a new module `plotting.py` for storing plotting related code. Inside it, write a function called `annotate_points`. \n",
        "\n",
        "---\n",
        "```python\n",
        "def annotate_points(points_to_annotate, ax, **kwargs):\n",
        "    '''\n",
        "    Annotate points with corresponding text.\n",
        "    \n",
        "    Parameters\n",
        "    ----------\n",
        "    points_to_annoate : dict\n",
        "        Dictionary with desired annotation text as keys and the (x, y)-\n",
        "        coordinates of the annotation as values.\n",
        "    ax : matplotlib axis object\n",
        "        Axis object on which to plot the annotations. \n",
        "    **kwargs : keyword arguments\n",
        "        Arguments to be forwarded to the ax.annotate call.    \n",
        "    '''\n",
        "    # Your code here\n",
        "```\n",
        "---\n",
        "\n",
        "The purpose of the function for these exercises is to annotate the extreme values which are to be stored inside a dictionary of the form `{'extr_val1': (x1, y1), 'extr_val2': (x2, y2), ...}`.\n",
        "\n",
        "For annotating points use `plt.annotate` or `ax.annotate`. They work similarly, but `plt` is for the Matlab-like API and `ax` is for the Object-oriented API of matplotlib.\n",
        "\n",
        "Docs for [plt.annotate](https://matplotlib.org/3.1.1/api/_as_gen/matplotlib.pyplot.annotate.html)\n",
        "\n",
        "Docs for [ax.annoate](https://matplotlib.org/3.1.1/api/_as_gen/matplotlib.axes.Axes.annotate.html)\n",
        "\n",
        "Note the intended use of `**kwargs` in the `annotate_points` function. It is meant to just transfer the many possible keyword arguments from your custom function to the matplotlib function. By using this, your own function does not limit the customizability of the underlying plotting code. Try for example to add the argument `color='green'` to the function call when testing.\n",
        "\n",
        "### Testing the function\n",
        "You can test the function by creating a plot and annotating the extreme values. Create some dummy values for a graph yourself or use these ones provided in Exercise 3.\n",
        "\n",
        "### Commit you changes\n",
        "\n",
        "Commit your changes when you are done.\n"
      ],
      "metadata": {}
    },
    {
      "cell_type": "markdown",
      "source": [
        "# Exercise 6\n",
        "\n",
        "Create module `main.py` and import `utils` and `plotting` into it.\n",
        "\n",
        "This is now a \"clean\" file that has access to all of our custom functions without looking cluttered. \n",
        "\n",
        "Inside `main.py` create a graph and use the functions previously created to annotate only extreme values within a certain $x$-interval of your choice.\n",
        "\n",
        "You can use the test code from Exercise 3 and 5 if you want."
      ],
      "metadata": {}
    },
    {
      "cell_type": "markdown",
      "source": [
        "# Some improvements\n",
        "\n",
        "The exercises are basically done. If you want you can keep improving the functions. Some good improvements could be:\n",
        "\n",
        "- Make `extract_interval` work with multiple intervals by use of `*args`.\n",
        "\n",
        "\n",
        "- Specify the number of decimal points for the dict keys that are returned from the `arrays_to_dict` function. This would be prettier when the strings that are stored as keys are eventually annotated in the plot. \n",
        "\n",
        "If you start altering your existing, working code remember to make sure that you have that code stored in a commit (snapshot). This way you can always revert to that state if need be.\n"
      ],
      "metadata": {}
    },
    {
      "cell_type": "markdown",
      "source": [
        "# End of exercises\n",
        "*The cell below is for setting the style of this document. It's not part of the exercises.*"
      ],
      "metadata": {}
    },
    {
      "cell_type": "code",
      "source": [
        "# Apply css theme to notebook\n",
        "from IPython.display import HTML\n",
        "HTML('<style>{}</style>'.format(open('../css/cowi.css').read()))"
      ],
      "outputs": [
        {
          "output_type": "execute_result",
          "execution_count": 21,
          "data": {
            "text/plain": "<IPython.core.display.HTML object>",
            "text/html": "<style>\n/* div#notebook {\n font-size: 13pt;\n line-height: 120%;\n color: #303030;\n -webkit-font-smoothing: antialiased !important;\n padding-top: 25px !important;\n} */\n\n\nbody,\ndiv.body {\n font-family: Roboto;\n /* font-size: 16pt; */\n color: #303030;\n /* background-color: #d1b5b5; */\n /* background: #8f4f4f; */\n margin-right: 10px;\n /* -webkit-font-smoothing: antialiased !important; */\n}\n\n/* Code inside HTML/Markdown */\ndiv.rendered_html code {\n    border-radius: 5px;\n}\n\n/* Output area from code cells */\ndiv.output_area pre {\n    /* font-size: 11pt !important; */\n    color: #303030;\n}\n\n\n\n/* HEADING 1 styles */\nh1 {\n    font-family: 'Roboto', 'Signika', sans-serif;\n    font-weight: ligher;\n    font-style: normal;\n    /* font-size: 20pt; */\n    width: 100%;\n    text-align: left;\n    color: #EE7631;\n    border-bottom: 1px solid rgba(238, 118, 49, 0.575);\n    padding-bottom: 6px;\n    /* font-variant: small-caps; */\n    }\n  \n    /* table {\n        margin: 5px;\n        width: 290px;\n    }\n  \n    th {\n        padding: 3px;\n    }\n  \n    td {\n        padding-left: 8px;\n        padding-right: 8px;\n        border: 1px solid #990000;\n        background-color: #ffffcc;\n    }\n\n    #trHeader {\n        text-decoration: underline;\n        color: #990000;\n    }\n  \n    .centerCell {\n        text-align: center;\n    } */\n\n/* HEADING 2 styles */\nh2 {\n        font-family: \"Roboto\";\n        text-align: left;\n        /* font-size: 12pt; */\n        color: #EE7631;\n        margin-bottom: 5px;\n        /* border-bottom: 1px solid lightgray; */\n        border-bottom: 0.8px solid rgba(238, 118, 49, 0.575);\n        padding-bottom: 6px\n    }\n  \n    /* table {\n        margin: 5px;\n        width: 290px;\n    }\n  \n    th {\n        padding: 3px;\n    }\n  \n    td {\n        padding-left: 8px;\n        padding-right: 8px;\n        border: 1px solid #990000;\n        background-color: #ffffcc;\n    }\n\n    #trHeader {\n        text-decoration: underline;\n        color: #990000;\n    }\n  \n    .centerCell {\n        text-align: center;\n    } */\n\nh3 {\n        font-family: 'Roboto';\n        /* text-align: left; */\n        /* font-size: 12pt; */\n        /* color: #EE7631; */\n        /* margin-bottom: 5px; */\n        border-bottom: 0.5px solid #ededed;\n        padding-bottom: 6px\n    }\n\n\n\np {\n    font-family: Roboto;\n    font-size: 16px;\n}\n\n/* Lists  with dots */\nul {\n    font-size: 16px;\n    line-height: 150%;\n}\n\n/* Lists  with numbers */\nol {\n    font-size: 16px;\n    line-height: 150%;\n}\n\n/* Horizontal rules */\nhr { \n    margin-top: 3px; \n    margin-bottom: 3px \n}\n\n/* Links */\na {\n  color: #EE7631;\n}\n\n\n/* Change global font size (for code) */\n.CodeMirror {\nfont-size: 16px !important;\nfont-family: monospace;\n}\n\n\n/* Code cells in the notebook - NOTE: color is font-color */\n.cm-s-ipython.CodeMirror {\n font-family: monospace, monospace;\n /* font-size: 11pt; */\n background: #ededed;\n color: #303030;     \n border-radius: 2px;\n /* margin-right: 10px; */\n font-style: normal;\n font-weight: normal;\n}\n\n\n/* Background of code cells */\n.cm-s-ipython.CodeMirror {\n font-family: monospace, monospace;\n /* font-size: 11pt; */\n background: rgba(211, 211, 211, 0.123);\n color: #303030;\n border-radius: 2px;\n font-style: normal;\n font-weight: normal;\n}\n\n\n/* .CodeMirror-gutters {\n border: none;\n border-right: 1px solid #e0e1e3 !important;\n background-color: #e0e1e3 !important;\n background: #e0e1e3 !important;\n border-radius: 0px;\n white-space: nowrap;\n} */\n\n\n\n/* Code syntax highlithig theme */\n.cm-s-ipython .CodeMirror-cursor {\n border-left: 2px solid #ff711a !important;\n}\n.cm-s-ipython span.cm-comment {\n color: #8d8d8d;\n font-style: italic;                                                   \n}\n.cm-s-ipython span.cm-atom {\n color: #055be0;\n}\n.cm-s-ipython span.cm-number {\n color: #ff8132;\n}\n.cm-s-ipython span.cm-property {\n color: #303030;\n}\n.cm-s-ipython span.cm-attribute {\n color: #303030;\n}\n.cm-s-ipython span.cm-keyword {\n color: #a045ddf3;\n font-weight: normal;\n}\n.cm-s-ipython span.cm-string {\n color: #009e07;\n}\n.cm-s-ipython span.cm-meta {\n color: #aa22ff;\n}\n.cm-s-ipython span.cm-operator {\n color: #055be0;\n}\n.cm-s-ipython span.cm-builtin {\n color: #3f2ce7;\n}\n.cm-s-ipython span.cm-variable {\n color: #303030;\n}\n.cm-s-ipython span.cm-variable-2 {\n color: #de143d;\n}\n.cm-s-ipython span.cm-variable-3 {\n color: #aa22ff;\n}\n.cm-s-ipython span.cm-def {\n color: #e22978;\n font-weight: normal;\n}\n.cm-s-ipython span.cm-error {\n background: rgba(191,11,55,.70);\n}\n.cm-s-ipython span.cm-tag {\n color: #e22978;\n}\n.cm-s-ipython span.cm-link {\n color: #ef5c00;\n}\n.cm-s-ipython span.cm-storage {\n color: #055be0;\n}\n.cm-s-ipython span.cm-entity {\n color: #e22978;\n}\n.cm-s-ipython span.cm-quote {\n color: #009e07;\n}\n</style>"
          },
          "metadata": {}
        }
      ],
      "execution_count": 21,
      "metadata": {
        "gather": {
          "logged": 1757633573598
        }
      }
    }
  ],
  "metadata": {
    "hide_input": false,
    "kernelspec": {
      "name": "python3",
      "language": "python",
      "display_name": "Python 3 (ipykernel)"
    },
    "language_info": {
      "name": "python",
      "version": "3.10.18",
      "mimetype": "text/x-python",
      "codemirror_mode": {
        "name": "ipython",
        "version": 3
      },
      "pygments_lexer": "ipython3",
      "nbconvert_exporter": "python",
      "file_extension": ".py"
    },
    "latex_envs": {
      "report_style_numbering": false,
      "hotkeys": {
        "equation": "Ctrl-E",
        "itemize": "Ctrl-I"
      },
      "LaTeX_envs_menu_present": true,
      "autocomplete": true,
      "autoclose": false,
      "eqNumInitial": 1,
      "bibliofile": "biblio.bib",
      "latex_user_defs": false,
      "current_citInitial": 1,
      "eqLabelWithNumbers": true,
      "labels_anchors": false,
      "cite_by": "apalike",
      "user_envs_cfg": false
    },
    "toc": {
      "toc_position": {},
      "skip_h1_title": false,
      "number_sections": false,
      "title_cell": "Table of Contents",
      "toc_window_display": false,
      "base_numbering": 1,
      "toc_section_display": true,
      "title_sidebar": "Table of Contents",
      "toc_cell": false,
      "nav_menu": {},
      "sideBar": true
    },
    "microsoft": {
      "ms_spell_check": {
        "ms_spell_check_language": "en"
      }
    },
    "kernel_info": {
      "name": "python3"
    },
    "nteract": {
      "version": "nteract-front-end@1.0.0"
    }
  },
  "nbformat": 4,
  "nbformat_minor": 2
}