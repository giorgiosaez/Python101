{
  "cells": [
    {
      "cell_type": "markdown",
      "source": [
        "# 4. Object-Oriented Programming I\n",
        "\n",
        "This is the first in a series of sessions concerning Object-Oriented Programming (OOP).\n",
        "So far we've been talking about the functional programming paradigm where everything is about functions, whereas with OOP everything is now about objects."
      ],
      "metadata": {}
    },
    {
      "cell_type": "markdown",
      "source": [
        "## Why OOP?\n",
        "\n",
        "- encourages more well-structured and modular code \n",
        "- code is easier to reuse\n",
        "- more intuitive code / high readability\n",
        "- hide away unessesary complexity by raising the abstraction level\n",
        "- helps you better understand the Python programming language \n",
        "\n",
        "*Note that Python is a multi-paradigm programming language meaning you're free to choose the paradigm best suited for the task at hand or even mix them as you see fit.*"
      ],
      "metadata": {}
    },
    {
      "cell_type": "markdown",
      "source": [
        "## What is meant by an `Object`\n",
        "The OOP programming paradigm is a modeling approach where the code is structured such that properties and behaviors are contained in individual objects.\n",
        "\n",
        "Simple examples of objects we have already been using:"
      ],
      "metadata": {}
    },
    {
      "cell_type": "code",
      "source": [
        "# 'float' object\n",
        "my_float = -5.5\n",
        "print( type(my_float) )\n",
        "print( my_float.as_integer_ratio() )\n",
        "print( my_float.is_integer() )"
      ],
      "outputs": [
        {
          "output_type": "stream",
          "name": "stdout",
          "text": "<class 'float'>\n(-11, 2)\nFalse\n"
        }
      ],
      "execution_count": 1,
      "metadata": {
        "gather": {
          "logged": 1757630406631
        }
      }
    },
    {
      "cell_type": "code",
      "source": [
        "# 'str' object\n",
        "my_string = 'Hello'\n",
        "print( type(my_string) )\n",
        "print( 'Uppercase:', my_string.upper() )\n",
        "print( 'Lowercase:', my_string.lower() )"
      ],
      "outputs": [
        {
          "output_type": "stream",
          "name": "stdout",
          "text": "<class 'str'>\nUppercase: HELLO\nLowercase: hello\n"
        }
      ],
      "execution_count": 2,
      "metadata": {
        "gather": {
          "logged": 1757630407660
        }
      }
    },
    {
      "cell_type": "code",
      "source": [
        "# 'list' object\n",
        "my_list = [1, 2, 'k', 'h']\n",
        "print( type(my_list) )\n",
        "print( \"Index of 'k':\", my_list.index('k') )"
      ],
      "outputs": [
        {
          "output_type": "stream",
          "name": "stdout",
          "text": "<class 'list'>\nIndex of 'k': 2\n"
        }
      ],
      "execution_count": 3,
      "metadata": {
        "gather": {
          "logged": 1757630408077
        }
      }
    },
    {
      "cell_type": "markdown",
      "source": [
        "So when we define a string, float, integer, boolean, list etc. in Python we're actually **initiating objects** (instances of the respective classes).\n",
        "Beside storing information, these objects also contains a set of **behavioral operations** (methods) relevant for the specific object. \n",
        "\n",
        "With functional programming you would have had to define all these methods as individual functions (polluting the namespace) and also name them so it's clear what type of variables they're intended for. With OOP you can integrate these into each of the specific object types, making them only accessible right where you may need them.\n",
        "\n",
        "The method names can also be simpler as it is obvious which data type they're intended for and it can be made more readable (e.g. `my_float.as_integer_ratio()`). \n",
        "\n",
        "**But most importantly, using OOP encourages you to split your problem into logical entities/objects and bind any behavioral function-like features to these objects which results in an intuitive structure that is easy to use and build upon by others.**\n"
      ],
      "metadata": {}
    },
    {
      "cell_type": "markdown",
      "source": [
        "## Basic `Class` and `Instances`"
      ],
      "metadata": {}
    },
    {
      "cell_type": "markdown",
      "source": [
        "When dealing with OOP there are four terms one needs to understand:\n",
        "- class\n",
        "- instance\n",
        "- method\n",
        "- attribute\n",
        "\n",
        "A `class` is at its essence a user-defined data structure with fully customizable behaviors. It's the blueprint describing the information structure and any corresponding behavioral operations for any objects/instances created from it.\n",
        "The `float class` e.g. describes the data structure for being able to store a signed decimal number together with definition of any behavioral operations/method calls relevant for floats.\n",
        "The class itself will never contain a specific floating number!\n",
        "\n",
        "From any class an infinite number of `instances` can be initiated. While the class contains the blueprint, instances are the actual objects created from a class.\n",
        "'my_float', 'my_string', 'my_list' are all instances/actual objects made using the blueprint defined by the corresponding classes.\n",
        "So while the `float class` from above will never contain a specific floating number, `instances` of the class can be created to represent specific floating point numbers. \n",
        "\n",
        "A `method` is a function-like operation defined by and tied to the class. Methods are available to be called from any instances initiated from the class. Just like with functions, methods are also executed by having a bracket after the method name containing possible input arguments.\n",
        "\n",
        "Finally, an `attribute` refers to some information/value (a property) stored in an object. To access an attribute of an object you do not have a bracket after the attribute name as it does not need to be executed.\n"
      ],
      "metadata": {}
    },
    {
      "cell_type": "markdown",
      "source": [
        "### Naming notation\n",
        "Naming convention recommended by [PEP8](https://www.python.org/dev/peps/pep-0008/#descriptive-naming-styles):\n",
        "\n",
        "- `joined_lower` for functions, methods, attributes, variables\n",
        "\n",
        "- `joined_lower` or `ALL_CAPS` for constants\n",
        "\n",
        "- `CamelCase` for classes\n",
        "\n",
        "- `mixedCase` only to conform to pre-existing conventions"
      ],
      "metadata": {}
    },
    {
      "cell_type": "markdown",
      "source": [
        "## Class example - Rectangle"
      ],
      "metadata": {}
    },
    {
      "cell_type": "markdown",
      "source": [
        "How to define a new class:"
      ],
      "metadata": {}
    },
    {
      "cell_type": "code",
      "source": [
        "class Rectangle:\n",
        "    '''Defining a 'Rectangle' class.'''\n",
        "    \n",
        "    def __init__(self, height, width):\n",
        "        '''This is a special constructor method that initializes the object.'''\n",
        "        self.height = height\n",
        "        self.width = width\n",
        "        \n",
        "    def calculate_area(self):\n",
        "        '''Return the area of the rectangle.'''\n",
        "        area = self.height * self.width\n",
        "        return area"
      ],
      "outputs": [],
      "execution_count": 4,
      "metadata": {
        "gather": {
          "logged": 1757630408909
        }
      }
    },
    {
      "cell_type": "markdown",
      "source": [
        "The `__init__` method is a special method that is executed when a new instance/object is initialized.\n",
        "\n",
        "The `self` is a placeholder object for the instance object not yet created during the class definition."
      ],
      "metadata": {}
    },
    {
      "cell_type": "code",
      "source": [
        "# initiate rectangle instance \n",
        "rect = Rectangle(height=5, width=3)"
      ],
      "outputs": [],
      "execution_count": 5,
      "metadata": {
        "gather": {
          "logged": 1757630409226
        }
      }
    },
    {
      "cell_type": "code",
      "source": [
        "# this is an object\n",
        "print(rect)"
      ],
      "outputs": [
        {
          "output_type": "stream",
          "name": "stdout",
          "text": "<__main__.Rectangle object at 0x701b72af3520>\n"
        }
      ],
      "execution_count": 6,
      "metadata": {
        "gather": {
          "logged": 1757630409562
        }
      }
    },
    {
      "cell_type": "code",
      "source": [
        "# you can get the area by executing the area method\n",
        "print( 'reactangle area:', rect.calculate_area() )"
      ],
      "outputs": [
        {
          "output_type": "stream",
          "name": "stdout",
          "text": "reactangle area: 15\n"
        }
      ],
      "execution_count": 7,
      "metadata": {
        "gather": {
          "logged": 1757630409810
        }
      }
    },
    {
      "cell_type": "code",
      "source": [
        "# you can get (read) and set (assign) attributes in an object\n",
        "print( 'height attribute:', rect.height )\n",
        "rect.height = 6  # attributes modify an attribute\n",
        "print( 'height attribute:', rect.height )"
      ],
      "outputs": [
        {
          "output_type": "stream",
          "name": "stdout",
          "text": "height attribute: 5\nheight attribute: 6\n"
        }
      ],
      "execution_count": 8,
      "metadata": {
        "gather": {
          "logged": 1757630410369
        }
      }
    },
    {
      "cell_type": "markdown",
      "source": [
        "Notice how you don't have to input the `self` argument when the method is executed from an instance.\n",
        "However, same result can also be obtained by executing the method directly from thee class definition, but this time giving the rectangle instance *itself* to be considered as the `self` input."
      ],
      "metadata": {}
    },
    {
      "cell_type": "code",
      "source": [
        "Rectangle.calculate_area(rect)"
      ],
      "outputs": [
        {
          "output_type": "execute_result",
          "execution_count": 9,
          "data": {
            "text/plain": "18"
          },
          "metadata": {}
        }
      ],
      "execution_count": 9,
      "metadata": {
        "gather": {
          "logged": 1757630410534
        }
      }
    },
    {
      "cell_type": "markdown",
      "source": [
        "### Rectangle - version 2 (lazy area calculation)"
      ],
      "metadata": {}
    },
    {
      "cell_type": "markdown",
      "source": [
        "Let's try to store the area found so it doesn't have to be recomputed everytime someone ask for the area. This also means we should try to prevent users from changing the height and width as the area is no longer recalculated."
      ],
      "metadata": {}
    },
    {
      "cell_type": "code",
      "source": [
        "class Rectangle:\n",
        "    ''' Defining a 'Rectangle' class.'''\n",
        "    \n",
        "    num_corners = 4  # this is a class variable that applies to all rectangles\n",
        "    \n",
        "    def __init__(self, height, width):\n",
        "        self._height = height  # this is a protected attribute\n",
        "        self._width = width    # this is a protected attribute\n",
        "        self.__area = None     # this is a private attribute\n",
        "        \n",
        "    def get_area(self):\n",
        "        '''Return the area of the rectangle if present, if not compute it and return it.'''\n",
        "        # check if __area have been updated\n",
        "        if not self.__area:\n",
        "            self.__area = Rectangle.calculate_area(self._height, self._width)\n",
        "        return self.__area\n",
        "    \n",
        "    # a static method is independent of an instance and is defined by the corresponding decorator\n",
        "    @staticmethod\n",
        "    def calculate_area(height, width):\n",
        "        '''Compute and return the area of the rectangle.'''\n",
        "        area = height * width\n",
        "        return area"
      ],
      "outputs": [],
      "execution_count": 10,
      "metadata": {
        "gather": {
          "logged": 1757630410772
        }
      }
    },
    {
      "cell_type": "markdown",
      "source": [
        "Notice the *class variable* `num_corners`, which is defined *before* the `__init__` method. \n",
        "Recall that the `__init__` method is used to initialize each specific instance, i.e. all types of rectangles that might be created. By defining the class variable before the initialization of each unique instance, it will be assigned to all instances of a class that are created.\n",
        "This makes sense since all rectangles are bound to have four corners."
      ],
      "metadata": {}
    },
    {
      "cell_type": "code",
      "source": [
        "# Initialize new rectangle instance\n",
        "rect2 = Rectangle(height=10, width=3)"
      ],
      "outputs": [],
      "execution_count": 11,
      "metadata": {
        "gather": {
          "logged": 1757630411300
        }
      }
    },
    {
      "cell_type": "markdown",
      "source": [
        "Java-style getters and setters are not nesessary in Python:"
      ],
      "metadata": {}
    },
    {
      "cell_type": "code",
      "source": [
        "print('Number of corners:', rect2.num_corners)  # ask for number of corners\n",
        "print('the area is: ', rect2.get_area())       # get area"
      ],
      "outputs": [
        {
          "output_type": "stream",
          "name": "stdout",
          "text": "Number of corners: 4\nthe area is:  30\n"
        }
      ],
      "execution_count": 12,
      "metadata": {
        "gather": {
          "logged": 1757630411496
        }
      }
    },
    {
      "cell_type": "markdown",
      "source": [
        "A static method can be used, directly from the class, without having to initialize an instance.\n",
        "This is useful if one wants to use a class also as a container for related functions which may even be used by the methods like here."
      ],
      "metadata": {}
    },
    {
      "cell_type": "code",
      "source": [
        "print('the area is: ', Rectangle.calculate_area(height=12, width=3))"
      ],
      "outputs": [
        {
          "output_type": "stream",
          "name": "stdout",
          "text": "the area is:  36\n"
        }
      ],
      "execution_count": 13,
      "metadata": {
        "gather": {
          "logged": 1757630411674
        }
      }
    },
    {
      "cell_type": "markdown",
      "source": [
        "Protected attibutes are not actually protected but just a way to communicate to the users that the code don't support direct changes and/or reads from this attribute."
      ],
      "metadata": {}
    },
    {
      "cell_type": "code",
      "source": [
        "# protected attibutes (single underscore prefix)\n",
        "rect2._height = 100\n",
        "rect2._height"
      ],
      "outputs": [
        {
          "output_type": "execute_result",
          "execution_count": 14,
          "data": {
            "text/plain": "100"
          },
          "metadata": {}
        }
      ],
      "execution_count": 14,
      "metadata": {
        "gather": {
          "logged": 1757630411938
        }
      }
    },
    {
      "cell_type": "code",
      "source": [
        "# the area do not support this height change\n",
        "print('the area is: ', rect2.get_area())"
      ],
      "outputs": [
        {
          "output_type": "stream",
          "name": "stdout",
          "text": "the area is:  30\n"
        }
      ],
      "execution_count": 15,
      "metadata": {
        "gather": {
          "logged": 1757630412196
        }
      }
    },
    {
      "cell_type": "markdown",
      "source": [
        "Private (or hidden) attributes are a stronger way of saying \"Don't mess with me!\""
      ],
      "metadata": {}
    },
    {
      "cell_type": "code",
      "source": [
        "# private attibutes (dunder prefix) are more defficult to mess with\n",
        "print('__area attribute:', rect2.__area)"
      ],
      "outputs": [
        {
          "output_type": "error",
          "ename": "AttributeError",
          "evalue": "'Rectangle' object has no attribute '__area'",
          "traceback": [
            "\u001b[0;31m---------------------------------------------------------------------------\u001b[0m",
            "\u001b[0;31mAttributeError\u001b[0m                            Traceback (most recent call last)",
            "Cell \u001b[0;32mIn[16], line 2\u001b[0m\n\u001b[1;32m      1\u001b[0m \u001b[38;5;66;03m# private attibutes (dunder prefix) are more defficult to mess with\u001b[39;00m\n\u001b[0;32m----> 2\u001b[0m \u001b[38;5;28mprint\u001b[39m(\u001b[38;5;124m'\u001b[39m\u001b[38;5;124m__area attribute:\u001b[39m\u001b[38;5;124m'\u001b[39m, \u001b[43mrect2\u001b[49m\u001b[38;5;241;43m.\u001b[39;49m\u001b[43m__area\u001b[49m)\n",
            "\u001b[0;31mAttributeError\u001b[0m: 'Rectangle' object has no attribute '__area'"
          ]
        }
      ],
      "execution_count": 16,
      "metadata": {
        "gather": {
          "logged": 1757630412502
        }
      }
    },
    {
      "cell_type": "markdown",
      "source": [
        "As seen, they cannot be accessed directly from outside the class definition."
      ],
      "metadata": {}
    },
    {
      "cell_type": "markdown",
      "source": [
        "However, if you really want there's always a way:"
      ],
      "metadata": {}
    },
    {
      "cell_type": "code",
      "source": [
        "# list all available attributes\n",
        "print('available attributes:', dir(rect2))"
      ],
      "outputs": [],
      "execution_count": null,
      "metadata": {
        "gather": {
          "logged": 1757630412619
        }
      }
    },
    {
      "cell_type": "code",
      "source": [
        "rect2._Rectangle__area = 999\n",
        "print('_Rectangle__area:', rect2._Rectangle__area)"
      ],
      "outputs": [],
      "execution_count": null,
      "metadata": {
        "gather": {
          "logged": 1757630412641
        }
      }
    },
    {
      "cell_type": "markdown",
      "source": [
        "If you're not sure if an attribute is available or not the `getattr` (for \"get attribute\") allows for a default return on error:"
      ],
      "metadata": {}
    },
    {
      "cell_type": "code",
      "source": [
        "# getattr allows for providing a default return when attribute does not exist\n",
        "print('_Rectangle__private:', getattr(rect2, '__private', 'my default value'))"
      ],
      "outputs": [
        {
          "output_type": "stream",
          "name": "stdout",
          "text": "_Rectangle__private: my default value\n"
        }
      ],
      "execution_count": 19,
      "metadata": {}
    },
    {
      "cell_type": "markdown",
      "source": [
        "### Rectangle - version 3 (area as a property)"
      ],
      "metadata": {}
    },
    {
      "cell_type": "markdown",
      "source": [
        "Let's now try to build a rectangle class that supports get(s) and set(s) of all properties: height, width and area."
      ],
      "metadata": {}
    },
    {
      "cell_type": "code",
      "source": [
        "class Rectangle:\n",
        "    '''Defining a 'Rectangle' class.'''\n",
        "    \n",
        "    __slots__ = ('height', 'width')  # predefine allowable/possible attributes\n",
        "    \n",
        "    def __init__(self, height, width):\n",
        "        self.height = height\n",
        "        self.width = width\n",
        "\n",
        "    # disguise a method as a property (getter method)\n",
        "    @property\n",
        "    def area(self):\n",
        "        return Rectangle.calculate_area(self.height, self.width)\n",
        "\n",
        "    # method for when someone tries to set the area (setter method)\n",
        "    @area.setter\n",
        "    def area(self, *args, **kwargs):\n",
        "        print('You cannot change the area! you must change the width or height instead.')\n",
        "    \n",
        "    # a static method is independent of an instance and is defined by the corresponding decorator\n",
        "    @staticmethod\n",
        "    def calculate_area(height, width):\n",
        "        area = height * width\n",
        "        return area"
      ],
      "outputs": [],
      "execution_count": 20,
      "metadata": {}
    },
    {
      "cell_type": "code",
      "source": [
        "# Initialize new rectangle instance\n",
        "rect3 = Rectangle(height=12, width=6)\n",
        "rect4 = Rectangle(height=20, width=4)"
      ],
      "outputs": [],
      "execution_count": 21,
      "metadata": {}
    },
    {
      "cell_type": "markdown",
      "source": [
        "The area property is now available as if it were an actual attribute:"
      ],
      "metadata": {}
    },
    {
      "cell_type": "code",
      "source": [
        "print('the area is: ', rect3.area)\n",
        "rect3.width = 2\n",
        "print('the area is: ', rect3.area)"
      ],
      "outputs": [
        {
          "output_type": "stream",
          "name": "stdout",
          "text": "the area is:  72\nthe area is:  24\n"
        }
      ],
      "execution_count": 22,
      "metadata": {}
    },
    {
      "cell_type": "code",
      "source": [
        "rect3.area = 100"
      ],
      "outputs": [
        {
          "output_type": "stream",
          "name": "stdout",
          "text": "You cannot change the area! you must change the width or height instead.\n"
        }
      ],
      "execution_count": 23,
      "metadata": {}
    },
    {
      "cell_type": "code",
      "source": [
        "# compare rectangle areas with high readability\n",
        "rect3.area < rect4.area"
      ],
      "outputs": [
        {
          "output_type": "execute_result",
          "execution_count": 24,
          "data": {
            "text/plain": "True"
          },
          "metadata": {}
        }
      ],
      "execution_count": 24,
      "metadata": {}
    },
    {
      "cell_type": "markdown",
      "source": [
        "### Best Practice\n",
        "\n",
        "**Separation of Concerns** [read more](https://en.wikipedia.org/wiki/Separation_of_concerns)\n",
        "Ideally, you should try to split any programming problem into a series of principal concerns for which you each design a cohesive and loosely coupled class:\n",
        "- Cohesive (the class content should belong together)\n",
        "- Loosely coupled (minimise dependency on other classes for better reuseability and testing in isolation)\n",
        "When done successful the program is considered modular. Modular coding requires a bit extra coding for all the interfacing but typically pays off through simplification and maintenance of code.\n",
        "\n",
        "**Four Tenets of OOP** [read more](https://www.jasoncoffin.com/)\n",
        "- Abstraction (model a simplified version of a complex real life entity)\n",
        "- Encapsulation (group together data and the operations on the data behind a well-defined interface)\n",
        "- Inheritance (avoid repeating common functionalities by enheriting from shared base class)\n",
        "- Polymorphism (reuse and extensibility)"
      ],
      "metadata": {}
    },
    {
      "cell_type": "markdown",
      "source": [
        "## Exercise 1\n",
        "Build your own Triangle class that takes a *height* and *width* argument at initialisation and that is capable of providing the user with its area. Expose the area method as a property of the object.\n",
        "\n",
        "Initiate two instances and compare their area."
      ],
      "metadata": {}
    },
    {
      "cell_type": "markdown",
      "source": [
        "## Exercise 2\n",
        "Construct a list of 10 random triangle objects using a list comprehension and the build-in random libary. Then sort the list in-place according to area using a lamda function.\n",
        "\n",
        "#### Hint 1\n",
        "Seek inspiration from the Session 3 exercise."
      ],
      "metadata": {}
    },
    {
      "cell_type": "markdown",
      "source": [
        "## Exercise 3-1\n",
        "Build a simple Counter class. When initiated it should default to zero but also allow for an optional starting value. Equip the class with both a `count_up` and a `count_down` method. Also, provide it with a `get_value` method and make the attribute containing the value private, thus encouraging users to use the get_value method."
      ],
      "metadata": {}
    },
    {
      "cell_type": "markdown",
      "source": [
        "## Exercise 3-2\n",
        "Now you realize that you need to be able to count up by an arbitrary value.\n",
        "Reimplement the Counter class now also with a `count_up_by(value)` method."
      ],
      "metadata": {}
    },
    {
      "cell_type": "markdown",
      "source": [
        "# End of exercises\n",
        "*The cell below is for setting the style of this document. It's not part of the exercises.*"
      ],
      "metadata": {}
    },
    {
      "cell_type": "code",
      "source": [
        "# Apply css theme to notebook\n",
        "from IPython.display import HTML\n",
        "HTML('<style>{}</style>'.format(open('../css/cowi.css').read()))"
      ],
      "outputs": [
        {
          "output_type": "execute_result",
          "execution_count": 25,
          "data": {
            "text/html": "<style>\n/* div#notebook {\n font-size: 13pt;\n line-height: 120%;\n color: #303030;\n -webkit-font-smoothing: antialiased !important;\n padding-top: 25px !important;\n} */\n\n\nbody,\ndiv.body {\n font-family: Roboto;\n /* font-size: 16pt; */\n color: #303030;\n /* background-color: #d1b5b5; */\n /* background: #8f4f4f; */\n margin-right: 10px;\n /* -webkit-font-smoothing: antialiased !important; */\n}\n\n/* Code inside HTML/Markdown */\ndiv.rendered_html code {\n    border-radius: 5px;\n}\n\n/* Output area from code cells */\ndiv.output_area pre {\n    /* font-size: 11pt !important; */\n    color: #303030;\n}\n\n\n\n/* HEADING 1 styles */\nh1 {\n    font-family: 'Roboto', 'Signika', sans-serif;\n    font-weight: ligher;\n    font-style: normal;\n    /* font-size: 20pt; */\n    width: 100%;\n    text-align: left;\n    color: #EE7631;\n    border-bottom: 1px solid rgba(238, 118, 49, 0.575);\n    padding-bottom: 6px;\n    /* font-variant: small-caps; */\n    }\n  \n    /* table {\n        margin: 5px;\n        width: 290px;\n    }\n  \n    th {\n        padding: 3px;\n    }\n  \n    td {\n        padding-left: 8px;\n        padding-right: 8px;\n        border: 1px solid #990000;\n        background-color: #ffffcc;\n    }\n\n    #trHeader {\n        text-decoration: underline;\n        color: #990000;\n    }\n  \n    .centerCell {\n        text-align: center;\n    } */\n\n/* HEADING 2 styles */\nh2 {\n        font-family: \"Roboto\";\n        text-align: left;\n        /* font-size: 12pt; */\n        color: #EE7631;\n        margin-bottom: 5px;\n        /* border-bottom: 1px solid lightgray; */\n        border-bottom: 0.8px solid rgba(238, 118, 49, 0.575);\n        padding-bottom: 6px\n    }\n  \n    /* table {\n        margin: 5px;\n        width: 290px;\n    }\n  \n    th {\n        padding: 3px;\n    }\n  \n    td {\n        padding-left: 8px;\n        padding-right: 8px;\n        border: 1px solid #990000;\n        background-color: #ffffcc;\n    }\n\n    #trHeader {\n        text-decoration: underline;\n        color: #990000;\n    }\n  \n    .centerCell {\n        text-align: center;\n    } */\n\nh3 {\n        font-family: 'Roboto';\n        /* text-align: left; */\n        /* font-size: 12pt; */\n        /* color: #EE7631; */\n        /* margin-bottom: 5px; */\n        border-bottom: 0.5px solid #ededed;\n        padding-bottom: 6px\n    }\n\n\n\np {\n    font-family: Roboto;\n    font-size: 16px;\n}\n\n/* Lists  with dots */\nul {\n    font-size: 16px;\n    line-height: 150%;\n}\n\n/* Lists  with numbers */\nol {\n    font-size: 16px;\n    line-height: 150%;\n}\n\n/* Horizontal rules */\nhr { \n    margin-top: 3px; \n    margin-bottom: 3px \n}\n\n/* Links */\na {\n  color: #EE7631;\n}\n\n\n/* Change global font size (for code) */\n.CodeMirror {\nfont-size: 16px !important;\nfont-family: monospace;\n}\n\n\n/* Code cells in the notebook - NOTE: color is font-color */\n.cm-s-ipython.CodeMirror {\n font-family: monospace, monospace;\n /* font-size: 11pt; */\n background: #ededed;\n color: #303030;     \n border-radius: 2px;\n /* margin-right: 10px; */\n font-style: normal;\n font-weight: normal;\n}\n\n\n/* Background of code cells */\n.cm-s-ipython.CodeMirror {\n font-family: monospace, monospace;\n /* font-size: 11pt; */\n background: rgba(211, 211, 211, 0.123);\n color: #303030;\n border-radius: 2px;\n font-style: normal;\n font-weight: normal;\n}\n\n\n/* .CodeMirror-gutters {\n border: none;\n border-right: 1px solid #e0e1e3 !important;\n background-color: #e0e1e3 !important;\n background: #e0e1e3 !important;\n border-radius: 0px;\n white-space: nowrap;\n} */\n\n\n\n/* Code syntax highlithig theme */\n.cm-s-ipython .CodeMirror-cursor {\n border-left: 2px solid #ff711a !important;\n}\n.cm-s-ipython span.cm-comment {\n color: #8d8d8d;\n font-style: italic;                                                   \n}\n.cm-s-ipython span.cm-atom {\n color: #055be0;\n}\n.cm-s-ipython span.cm-number {\n color: #ff8132;\n}\n.cm-s-ipython span.cm-property {\n color: #303030;\n}\n.cm-s-ipython span.cm-attribute {\n color: #303030;\n}\n.cm-s-ipython span.cm-keyword {\n color: #a045ddf3;\n font-weight: normal;\n}\n.cm-s-ipython span.cm-string {\n color: #009e07;\n}\n.cm-s-ipython span.cm-meta {\n color: #aa22ff;\n}\n.cm-s-ipython span.cm-operator {\n color: #055be0;\n}\n.cm-s-ipython span.cm-builtin {\n color: #3f2ce7;\n}\n.cm-s-ipython span.cm-variable {\n color: #303030;\n}\n.cm-s-ipython span.cm-variable-2 {\n color: #de143d;\n}\n.cm-s-ipython span.cm-variable-3 {\n color: #aa22ff;\n}\n.cm-s-ipython span.cm-def {\n color: #e22978;\n font-weight: normal;\n}\n.cm-s-ipython span.cm-error {\n background: rgba(191,11,55,.70);\n}\n.cm-s-ipython span.cm-tag {\n color: #e22978;\n}\n.cm-s-ipython span.cm-link {\n color: #ef5c00;\n}\n.cm-s-ipython span.cm-storage {\n color: #055be0;\n}\n.cm-s-ipython span.cm-entity {\n color: #e22978;\n}\n.cm-s-ipython span.cm-quote {\n color: #009e07;\n}\n</style>",
            "text/plain": "<IPython.core.display.HTML object>"
          },
          "metadata": {}
        }
      ],
      "execution_count": 25,
      "metadata": {}
    }
  ],
  "metadata": {
    "hide_input": false,
    "kernelspec": {
      "name": "python3",
      "language": "python",
      "display_name": "Python 3 (ipykernel)"
    },
    "language_info": {
      "name": "python",
      "version": "3.10.18",
      "mimetype": "text/x-python",
      "codemirror_mode": {
        "name": "ipython",
        "version": 3
      },
      "pygments_lexer": "ipython3",
      "nbconvert_exporter": "python",
      "file_extension": ".py"
    },
    "latex_envs": {
      "report_style_numbering": false,
      "hotkeys": {
        "equation": "Ctrl-E",
        "itemize": "Ctrl-I"
      },
      "LaTeX_envs_menu_present": true,
      "autocomplete": true,
      "autoclose": false,
      "eqNumInitial": 1,
      "bibliofile": "biblio.bib",
      "latex_user_defs": false,
      "current_citInitial": 1,
      "eqLabelWithNumbers": true,
      "labels_anchors": false,
      "cite_by": "apalike",
      "user_envs_cfg": false
    },
    "toc": {
      "toc_position": {},
      "skip_h1_title": false,
      "number_sections": false,
      "title_cell": "Table of Contents",
      "toc_window_display": false,
      "base_numbering": 1,
      "toc_section_display": true,
      "title_sidebar": "Table of Contents",
      "toc_cell": false,
      "nav_menu": {},
      "sideBar": true
    },
    "microsoft": {
      "ms_spell_check": {
        "ms_spell_check_language": "en"
      },
      "host": {
        "AzureML": {
          "notebookHasBeenCompleted": true
        }
      }
    },
    "kernel_info": {
      "name": "python3"
    },
    "nteract": {
      "version": "nteract-front-end@1.0.0"
    }
  },
  "nbformat": 4,
  "nbformat_minor": 2
}